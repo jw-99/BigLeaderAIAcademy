{
 "cells": [
  {
   "cell_type": "code",
   "execution_count": null,
   "metadata": {},
   "outputs": [],
   "source": [
    "# 네이버 블로그 정보 수집하여 저장하기\n",
    "\n",
    "print(\"=\" *80)\n",
    "print(\" 연습문제 : 저장할 내용을 목록으로 만들어서 xls , csv 형식으로 저장하기\")\n",
    "print(\"=\" *80)\n",
    "\n",
    "#Step 0. 필요한 모듈과 라이브러리를 로딩하고 검색어를 입력 받습니다\n",
    "\n",
    "from bs4 import BeautifulSoup\n",
    "from selenium import webdriver\n",
    "import time\n",
    "import sys        # system 설정을 변경하기 위해 필요합니다\n",
    "import math\n",
    "import pandas  as pd    \n",
    "\n",
    "query_txt = input('1.크롤링할 키워드는 무엇입니까?: ')\n",
    "cnt=int(input('2.수집할 데이터는 몇 건입니까?: ') )\n",
    "page_cnt = math.ceil(cnt / 20)\n",
    "\n",
    "fc_name=input('3.csv 형태로 저장할 경로와 파일명을 확장자 포함해서 쓰세요(예:c:\\\\temp\\\\naver.csv): ')\n",
    "fx_name=input('4.xls 형태로 저장할 경로와 파일명을 확장자 포함해서 쓰세요(예:c:\\\\temp\\\\naver.xls): ')"
   ]
  },
  {
   "cell_type": "code",
   "execution_count": null,
   "metadata": {},
   "outputs": [],
   "source": [
    "#Step 1. 크롬 드라이버를 사용해서 웹 브라우저를 실행합니다.\n",
    "path = \"c:/temp/chromedriver_87/chromedriver.exe\"\n",
    "driver = webdriver.Chrome(path)\n",
    "\n",
    "driver.get('http://www.naver.com')\n",
    "time.sleep(2)\n",
    "\n",
    "#Step 2. 네이버 검색창에 입력 받은 검색어를 넣고 검색한 후 \"블로그\" 선택\n",
    "element = driver.find_element_by_id(\"query\")\n",
    "element.send_keys(query_txt)\n",
    "element.submit()\n",
    "\n",
    "driver.find_element_by_link_text(\"VIEW\").click()\n",
    "time.sleep(2)\n",
    "\n",
    "#driver.find_element_by_link_text(\"블로그\").click()\n",
    "\n",
    "# Step 9. 저장 목록을 만든 후 목록에 있는 내용을 파일에 저장하기\n",
    "\n",
    "no2 = [ ]           # 게시글 번호 컬럼\n",
    "title2 = [ ]        # 게시물 제목 컬럼\n",
    "contents2 = [ ]     # 게시글 내용 컬럼\n",
    "bdate2 = [ ]        # 작성 일자 컬럼\n",
    "nick2 = [ ]         # 블로그 닉네임\n",
    "\n",
    "#Step 5. 현재 페이지의 내용을 저장 목록을 만든 후 목록에 있는 내용을 파일에 저장하기\n",
    "no = 1\n",
    "\n",
    "# 자동 스크롤다운 함수\n",
    "def scroll_down(driver):\n",
    "  driver.execute_script(\"window.scrollTo(0,document.body.scrollHeight);\")\n",
    "  time.sleep(5)\n",
    "\n",
    "i = 1\n",
    "while (i <= page_cnt):\n",
    "      scroll_down(driver) \n",
    "      i += 1\n",
    "    \n",
    "\n",
    "print(\"\\n\")"
   ]
  },
  {
   "cell_type": "code",
   "execution_count": null,
   "metadata": {},
   "outputs": [],
   "source": []
  }
 ],
 "metadata": {
  "kernelspec": {
   "display_name": "Python 3",
   "language": "python",
   "name": "python3"
  },
  "language_info": {
   "codemirror_mode": {
    "name": "ipython",
    "version": 3
   },
   "file_extension": ".py",
   "mimetype": "text/x-python",
   "name": "python",
   "nbconvert_exporter": "python",
   "pygments_lexer": "ipython3",
   "version": "3.8.8"
  }
 },
 "nbformat": 4,
 "nbformat_minor": 2
}
