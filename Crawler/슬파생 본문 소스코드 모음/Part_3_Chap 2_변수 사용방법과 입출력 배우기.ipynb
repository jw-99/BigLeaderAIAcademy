{
 "cells": [
  {
   "cell_type": "code",
   "execution_count": 1,
   "metadata": {},
   "outputs": [
    {
     "name": "stdout",
     "output_type": "stream",
     "text": [
      "var1: 10\n",
      "var2: 20\n",
      "var3: 30\n",
      "var4: 30\n"
     ]
    }
   ],
   "source": [
    "# 변수 사용법과 입출력 배우기\n",
    "\n",
    "# 예 1) var1 이름으로 변수를 만들고 숫자 10을 할당하세요\n",
    "var1 = 10\n",
    "print('var1:' , var1)\n",
    "\n",
    "# 예 2) var2 이름으로 변수를 만들고 숫자 20을 할당하세요\n",
    "var2 = 20\n",
    "print('var2:' , var2)\n",
    "\n",
    "# 예 3) 여러 변수에 한꺼번에  값 할당하기\n",
    "var3=var4=30\n",
    "print('var3:' , var3)\n",
    "print('var4:' , var4)"
   ]
  },
  {
   "cell_type": "code",
   "execution_count": 2,
   "metadata": {},
   "outputs": [
    {
     "name": "stdout",
     "output_type": "stream",
     "text": [
      "3\n",
      "30\n",
      "200\n",
      "0.5\n"
     ]
    }
   ],
   "source": [
    "# 다양한 산술 연산자 사용하기\n",
    "print( 1 + 2 )\n",
    "print( var1 + var2 )\n",
    "print( var1 * var2 )\n",
    "print( var1 / var2 )"
   ]
  },
  {
   "cell_type": "code",
   "execution_count": 3,
   "metadata": {},
   "outputs": [
    {
     "name": "stdout",
     "output_type": "stream",
     "text": [
      "var5 / var6 나머지값: 2\n"
     ]
    }
   ],
   "source": [
    "# % 연산자 (나머지 값 구하기) 사용하기\n",
    "var5 = 3\n",
    "var6 = 14\n",
    "print('var5 / var6 나머지값:' , var6 % var5)"
   ]
  },
  {
   "cell_type": "code",
   "execution_count": 6,
   "metadata": {},
   "outputs": [
    {
     "name": "stdout",
     "output_type": "stream",
     "text": [
      "오늘도 굿모닝이지 말입니다~!\n",
      "str\n",
      "늘 굿모닝이지 말입니다~!\n"
     ]
    }
   ],
   "source": [
    "# print( ) 함수 사용하기\n",
    "\n",
    "# 출력할 문장을 직접 쓰기\n",
    "print('오늘도 굿모닝이지 말입니다~!')\n",
    "\n",
    "# 출력할 문장을 변수에 넣고 변수를 활용하여 출력하기\n",
    "str = '늘 굿모닝이지 말입니다~!'\n",
    "print('str')   # 이렇게 쓰면 안되지 말입니다 ^^;;\n",
    "print( str ) "
   ]
  },
  {
   "cell_type": "code",
   "execution_count": 7,
   "metadata": {},
   "outputs": [
    {
     "name": "stdout",
     "output_type": "stream",
     "text": [
      "var1 변수에 있는 값은 바로  100  입니다\n"
     ]
    }
   ],
   "source": [
    "# print( ) 함수 사용하기 - 변수에 데이터를 넣고 다른 문자열과 함께 출력\n",
    "\n",
    "var1 = 100\n",
    "print('var1 변수에 있는 값은 바로 ' , var1 , ' 입니다')"
   ]
  },
  {
   "cell_type": "code",
   "execution_count": 8,
   "metadata": {},
   "outputs": [
    {
     "name": "stdout",
     "output_type": "stream",
     "text": [
      " 어휴...배가 너무 고파서 밥을 5 그릇도 먹을듯....ㅠㅠ\n"
     ]
    }
   ],
   "source": [
    "# print( ) 함수 사용하기 - 문자열 포매팅 활용하기\n",
    "bab = 5\n",
    "print(' 어휴...배가 너무 고파서 밥을 %s 그릇도 먹을듯....ㅠㅠ'  %bab)"
   ]
  },
  {
   "cell_type": "code",
   "execution_count": 9,
   "metadata": {},
   "outputs": [
    {
     "name": "stdout",
     "output_type": "stream",
     "text": [
      "이번 시험에서 영어점수는 20 점 , 수학점수는 10 점 올랐음!\n"
     ]
    }
   ],
   "source": [
    "# print( ) 함수 - 문자열 포매팅 활용하기-2\n",
    "eng = 20\n",
    "math = 10\n",
    "\n",
    "print('이번 시험에서 영어점수는 %s 점 , 수학점수는 %s 점 올랐음!' %(eng,math))"
   ]
  },
  {
   "cell_type": "code",
   "execution_count": 12,
   "metadata": {},
   "outputs": [
    {
     "name": "stdout",
     "output_type": "stream",
     "text": [
      "물가가 20% 오른다는데 내월급도 10%라도 올랐으면..ㅠㅠ\n"
     ]
    }
   ],
   "source": [
    "# print( ) 함수 - 문자열 포매팅 활용하기-3\n",
    "price = 20\n",
    "sal = 10\n",
    "\n",
    "print('물가가 %s%% 오른다는데 내월급도 %s%%라도 올랐으면..ㅠㅠ' %(price,sal))"
   ]
  },
  {
   "cell_type": "code",
   "execution_count": 13,
   "metadata": {},
   "outputs": [
    {
     "name": "stdout",
     "output_type": "stream",
     "text": [
      "짜장면 \n"
     ]
    }
   ],
   "source": [
    "# input 함수로 정보 입력받기\n",
    "menu = input( )"
   ]
  },
  {
   "cell_type": "code",
   "execution_count": 14,
   "metadata": {},
   "outputs": [
    {
     "name": "stdout",
     "output_type": "stream",
     "text": [
      "오늘 점심 뭐 먹을까요?짬뽕\n"
     ]
    }
   ],
   "source": [
    "# input( ) 함수로 안내 멘트 보이기\n",
    "menu_2 = input('오늘 점심 뭐 먹을까요?')"
   ]
  },
  {
   "cell_type": "code",
   "execution_count": 15,
   "metadata": {},
   "outputs": [
    {
     "name": "stdout",
     "output_type": "stream",
     "text": [
      "\n",
      "1.서울     2.대전     3.광주     4.부산     5.경남\n",
      "6.경북     7.충청     8.전남     9.전북     10.제주 \n",
      "\n",
      "위 지역 중 검색을 원하는 지역의 번호를 입력하세요: 1\n"
     ]
    }
   ],
   "source": [
    "# 출력되는 양식을 지정하여 정보를 입력받기\n",
    "\n",
    "area_no = input( '''\n",
    "1.서울     2.대전     3.광주     4.부산     5.경남\n",
    "6.경북     7.충청     8.전남     9.전북     10.제주 \n",
    "\n",
    "위 지역 중 검색을 원하는 지역의 번호를 입력하세요: ''')"
   ]
  },
  {
   "cell_type": "code",
   "execution_count": null,
   "metadata": {},
   "outputs": [],
   "source": []
  }
 ],
 "metadata": {
  "kernelspec": {
   "display_name": "Python 3",
   "language": "python",
   "name": "python3"
  },
  "language_info": {
   "codemirror_mode": {
    "name": "ipython",
    "version": 3
   },
   "file_extension": ".py",
   "mimetype": "text/x-python",
   "name": "python",
   "nbconvert_exporter": "python",
   "pygments_lexer": "ipython3",
   "version": "3.5.4"
  }
 },
 "nbformat": 4,
 "nbformat_minor": 2
}
