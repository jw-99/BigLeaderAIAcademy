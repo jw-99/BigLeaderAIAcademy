{
 "cells": [
  {
   "cell_type": "code",
   "execution_count": 5,
   "metadata": {},
   "outputs": [],
   "source": [
    "# 예제 1 - 클릭 기능 자동화 연습 - 계산기\n",
    "import subprocess\n",
    "subprocess.Popen('calc.exe')\n",
    "\n",
    "import time\n",
    "time.sleep(2)\n",
    "\n",
    "import uiautomation as auto \n",
    "calc = auto.WindowControl(searchDepth=1, Name='계산기')\n",
    "\n",
    "calc.ButtonControl(Name=\"4\").Click()\n",
    "calc.ButtonControl(Name=\"더하기\").Click()\n",
    "calc.ButtonControl(Name=\"2\").Click()\n",
    "calc.ButtonControl(Name=\"같음\").Click()"
   ]
  },
  {
   "cell_type": "code",
   "execution_count": 2,
   "metadata": {},
   "outputs": [],
   "source": [
    "# 예제 2 - 입력 기능 자동화 연습 - 메모장\n",
    "import subprocess\n",
    "subprocess.Popen('notepad.exe')\n",
    "\n",
    "import time\n",
    "import uiautomation as auto \n",
    "notepad = auto.WindowControl(searchDepth=1, Name='제목 없음 - Windows 메모장')\n",
    "\n",
    "notepad.EditControl(Name=\"텍스트 편집\").SendKeys('파이썬 완전 재미있죠?')\n",
    "\n",
    "notepad.MenuItemControl(Name=\"파일(F)\").Click()\n",
    "notepad.MenuItemControl(Name=\"저장(S)\tCtrl+S\").Click()\n",
    "\n",
    "f_name ='c:\\\\temp\\\\메모장연습.txt'\n",
    "notepad.EditControl(Name=\"파일 이름:\").Click()\n",
    "notepad.EditControl(Name=\"파일 이름:\").SendKeys('{Ctrl}{A}', waitTime = 1)\n",
    "notepad.EditControl(Name=\"파일 이름:\").SendKeys(f_name)\n",
    "notepad.ButtonControl(Name=\"저장(S)\").Click()"
   ]
  },
  {
   "cell_type": "code",
   "execution_count": null,
   "metadata": {},
   "outputs": [],
   "source": []
  }
 ],
 "metadata": {
  "kernelspec": {
   "display_name": "Python 3",
   "language": "python",
   "name": "python3"
  },
  "language_info": {
   "codemirror_mode": {
    "name": "ipython",
    "version": 3
   },
   "file_extension": ".py",
   "mimetype": "text/x-python",
   "name": "python",
   "nbconvert_exporter": "python",
   "pygments_lexer": "ipython3",
   "version": "3.7.5"
  }
 },
 "nbformat": 4,
 "nbformat_minor": 2
}
