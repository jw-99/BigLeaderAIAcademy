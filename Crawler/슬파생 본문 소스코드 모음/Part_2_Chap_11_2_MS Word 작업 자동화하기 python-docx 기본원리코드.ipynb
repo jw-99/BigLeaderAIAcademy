{
 "cells": [
  {
   "cell_type": "code",
   "execution_count": 26,
   "metadata": {},
   "outputs": [],
   "source": [
    "from docx import Document\n",
    "\n",
    "#새로운 문서를 만들어서 제목을 입력함\n",
    "doc = Document()\n",
    "\n",
    "#제목을 위한 add_heading( '제목', 번호)함수 사용\n",
    "doc.add_heading('제목: 파이썬으로 워드파일 만들기', 0)\n",
    "\n",
    "doc.add_heading('제목1 - 첫번째 소제목', 1)\n",
    "doc.add_heading('제목2 - 두번째 소제목', 2)\n",
    "doc.add_heading('제목3 - 세번째 소제목', 3)\n",
    "doc.add_heading('제목4 - 네번째 소제목', 4)\n",
    "doc.add_heading('제목5 - 다섯번째 소제목', 5)\n",
    "\n",
    "doc.save('c:\\\\temp\\\\doc_1.docx')"
   ]
  },
  {
   "cell_type": "code",
   "execution_count": 32,
   "metadata": {},
   "outputs": [],
   "source": [
    "from docx import Document\n",
    "\n",
    "#제목을 위한 add_heading( '제목', 번호)함수 사용\n",
    "doc = Document()\n",
    "doc.add_heading('제목: 파이썬으로 워드파일 만들기', 0)\n",
    "\n",
    "#스타일 지정 없기 기본값으로 본문(paragraph) 넣기\n",
    "doc.add_paragraph('스타일 없이 본문 - 슬기로운파이썬생활 - 가치랩스')\n",
    "\n",
    "#새로운 스타일 지정하면서 본문넣기 \n",
    "doc.add_paragraph('슬기로운파이썬생활 - 가치랩스', style='List Bullet')\n",
    "doc.add_paragraph('데이터 싹쓰리 & 업무 자동화', style='List Bullet')\n",
    "\n",
    "#한 줄에서 특정 글자만 볼드체로 지정하기\n",
    "paragraph = doc.add_paragraph()\n",
    "paragraph.add_run('슬기로운 ')\n",
    "paragraph.add_run('파이썬').bold = True\n",
    "paragraph.add_run(' 생활이지 말입니다^^')\n",
    "\n",
    "doc.save('c:\\\\temp\\\\doc_2.docx')"
   ]
  },
  {
   "cell_type": "code",
   "execution_count": 39,
   "metadata": {},
   "outputs": [],
   "source": [
    "from docx import Document\n",
    "\n",
    "#제목을 위한 add_heading( '제목', 번호)함수 사용\n",
    "doc = Document()\n",
    "doc.add_heading('제목: 파이썬으로 워드파일 만들기', 0)\n",
    "\n",
    "#표의 행과 열 수를 지정하기\n",
    "table = doc.add_table(rows=2, cols=2)\n",
    "cell = table.cell(0, 1)    # 1행 2열에 데이터 입력하기\n",
    "cell.text = '서진수, 손기동'\n",
    "\n",
    "#특정 행을 지정한 후 특정 열에 데이터 입력하기\n",
    "row = table.rows[1]                 # 2행 지정\n",
    "row.cells[0].text = '서진수'        # 1열 입력\n",
    "row.cells[1].text = '손기동'        # 2열 입력\n",
    "\n",
    "#테두리선 표시하기\n",
    "table.style = 'LightShading-Accent1'\n",
    "\n",
    "doc.save('c:\\\\temp\\\\doc_3.docx')"
   ]
  }
 ],
 "metadata": {
  "kernelspec": {
   "display_name": "Python 3",
   "language": "python",
   "name": "python3"
  },
  "language_info": {
   "codemirror_mode": {
    "name": "ipython",
    "version": 3
   },
   "file_extension": ".py",
   "mimetype": "text/x-python",
   "name": "python",
   "nbconvert_exporter": "python",
   "pygments_lexer": "ipython3",
   "version": "3.7.5"
  }
 },
 "nbformat": 4,
 "nbformat_minor": 4
}
