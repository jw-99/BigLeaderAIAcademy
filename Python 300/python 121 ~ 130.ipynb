{
 "cells": [
  {
   "cell_type": "code",
   "execution_count": 4,
   "id": "28dac7d7",
   "metadata": {},
   "outputs": [
    {
     "name": "stdout",
     "output_type": "stream",
     "text": [
      "a\n",
      "A\n"
     ]
    }
   ],
   "source": [
    "a = input()\n",
    "if a.islower() == True:\n",
    "    print(a.upper())\n",
    "else:\n",
    "    print(a.lower())"
   ]
  },
  {
   "cell_type": "code",
   "execution_count": 16,
   "id": "ef53a702",
   "metadata": {},
   "outputs": [
    {
     "name": "stdout",
     "output_type": "stream",
     "text": [
      "score: 83\n",
      "grade is A\n"
     ]
    }
   ],
   "source": [
    "score = input(\"score: \")\n",
    "\n",
    "if int(score) >= 81 and int(score) <= 100:\n",
    "    print(\"grade is A\")\n",
    "elif int(score) >= 61 and int(score) <= 80:\n",
    "    print(\"grade is B\")\n",
    "elif int(score) >= 41 and int(score) <= 60:\n",
    "    print(\"grade is C\")\n",
    "elif int(score) >= 21 and int(score) <= 40:\n",
    "    print(\"grade is D\")\n",
    "else:\n",
    "    print(\"grade is E\")"
   ]
  },
  {
   "cell_type": "code",
   "execution_count": 18,
   "id": "aea1e990",
   "metadata": {},
   "outputs": [
    {
     "name": "stdout",
     "output_type": "stream",
     "text": [
      "입력: 100 유로\n",
      "126800.0 원\n"
     ]
    }
   ],
   "source": [
    "b = input(\"입력: \")\n",
    "c = b.split(\" \")\n",
    "if c[-1] == \"달러\":\n",
    "    print(float(c[0]) * 1167, \"원\")\n",
    "elif c[-1] == \"엔\":\n",
    "    print(float(c[0]) * 1.096, \"원\")\n",
    "elif c[-1] == \"유로\":\n",
    "    print(float(c[0]) * 1268, \"원\")\n",
    "elif c[-1] == \"위안\":\n",
    "    print(float(c[0]) * 171, \"원\")"
   ]
  },
  {
   "cell_type": "code",
   "execution_count": 19,
   "id": "5b0105b6",
   "metadata": {},
   "outputs": [
    {
     "name": "stdout",
     "output_type": "stream",
     "text": [
      "입력: 100 달러\n",
      "116700.0 원\n"
     ]
    }
   ],
   "source": [
    "환율 = {\"달러\": 1167, \n",
    "        \"엔\": 1.096,\n",
    "        \"유로\": 1268,\n",
    "        \"위안\": 171}\n",
    "user = input(\"입력: \")\n",
    "num, currency = user.split()\n",
    "print(float(num) * 환율[currency], \"원\")"
   ]
  },
  {
   "cell_type": "code",
   "execution_count": 21,
   "id": "2c8036d1",
   "metadata": {},
   "outputs": [
    {
     "name": "stdout",
     "output_type": "stream",
     "text": [
      "input number1: 10\n",
      "input number2: 9\n",
      "input number3: 20\n"
     ]
    },
    {
     "data": {
      "text/plain": [
       "20"
      ]
     },
     "execution_count": 21,
     "metadata": {},
     "output_type": "execute_result"
    }
   ],
   "source": [
    "a = input(\"input number1: \")\n",
    "b = input(\"input number2: \")\n",
    "c = input(\"input number3: \")\n",
    "d = [int(a),int(b),int(c)]\n",
    "max(d)"
   ]
  },
  {
   "cell_type": "code",
   "execution_count": 55,
   "id": "ece96c6c",
   "metadata": {},
   "outputs": [
    {
     "name": "stdout",
     "output_type": "stream",
     "text": [
      "휴대전화 번호 입력: 0111\n",
      "SKT\n"
     ]
    }
   ],
   "source": [
    "s = {'011': 'SKT', '016': 'KT', '019': 'LGU', '010': '알수없음'}\n",
    "t = input(\"휴대전화 번호 입력: \")\n",
    "print(s[t[:3]])"
   ]
  },
  {
   "cell_type": "code",
   "execution_count": 37,
   "id": "6f64abff",
   "metadata": {},
   "outputs": [
    {
     "name": "stdout",
     "output_type": "stream",
     "text": [
      "우편번호: 01400\n",
      "도봉구\n"
     ]
    }
   ],
   "source": [
    "우편번호 = input(\"우편번호: \")\n",
    "우편번호 = 우편번호[:3]\n",
    "if 우편번호 in [\"010\", \"011\", \"012\"]:\n",
    "    print(\"강북구\")\n",
    "if 우편번호 in [\"014\", \"015\", \"016\"]:\n",
    "    print(\"도봉구\")\n",
    "else:\n",
    "    print(\"노원구\")"
   ]
  },
  {
   "cell_type": "code",
   "execution_count": 51,
   "id": "6d3f27a0",
   "metadata": {},
   "outputs": [
    {
     "name": "stdout",
     "output_type": "stream",
     "text": [
      "주민등록번호: 821010-1635210\n",
      "남자\n",
      "8\n"
     ]
    }
   ],
   "source": [
    "주민등록번호 = input(\"주민등록번호: \")\n",
    "성별 = 주민등록번호[7]\n",
    "if 성별 in ['1', '3']:\n",
    "    print(\"남자\")\n",
    "else:\n",
    "    print(\"여자\")"
   ]
  },
  {
   "cell_type": "code",
   "execution_count": 46,
   "id": "f715aa73",
   "metadata": {},
   "outputs": [
    {
     "name": "stdout",
     "output_type": "stream",
     "text": [
      "주민등록번호: 821010-1635210\n",
      "서울이 아닙니다.\n"
     ]
    }
   ],
   "source": [
    "주민등록번호 = input(\"주민등록번호: \")\n",
    "뒷자리 = 주민등록번호.split(\"-\")[1]\n",
    "if 0 <= int(뒷자리[1:3]) <= 8:\n",
    "    print(\"서울입니다.\")\n",
    "else:\n",
    "    print(\"서울이 아닙니다.\")"
   ]
  },
  {
   "cell_type": "code",
   "execution_count": 66,
   "id": "c7472dd9",
   "metadata": {},
   "outputs": [
    {
     "name": "stdout",
     "output_type": "stream",
     "text": [
      "주민등록번호: 821010-1635214\n",
      "유효한 주민등록번호입니다.\n"
     ]
    }
   ],
   "source": [
    "주민등록번호 = input(\"주민등록번호: \")\n",
    "일차계산 = int(주민등록번호[0])*2 +  int(주민등록번호[1])*3 + int(주민등록번호[2])*4 + int(주민등록번호[3])*5 + int(주민등록번호[4])*6 + int(주민등록번호[5])*7 + int(주민등록번호[7])*8 + int(주민등록번호[8])*9 + int(주민등록번호[9])*2 + int(주민등록번호[10])*3 + int(주민등록번호[11])*4 + int(주민등록번호[12])*5\n",
    "이차계산 = 11 - 일차계산 % 11\n",
    "이차계산 = str(이차계산)\n",
    "if 이차계산 == 주민등록번호[-1]:\n",
    "    print(\"유효한 주민등록번호입니다.\")\n",
    "else:\n",
    "    print(\"유효하지 않은 주민등록번호입니다.\")"
   ]
  },
  {
   "cell_type": "code",
   "execution_count": 67,
   "id": "3d24b23f",
   "metadata": {},
   "outputs": [],
   "source": [
    "import requests\n",
    "btc = requests.get(\"https://api.bithumb.com/public/ticker/\").json()['data']"
   ]
  },
  {
   "cell_type": "code",
   "execution_count": 70,
   "id": "b264b847",
   "metadata": {},
   "outputs": [
    {
     "name": "stdout",
     "output_type": "stream",
     "text": [
      "상승장\n"
     ]
    }
   ],
   "source": [
    "변동폭 = float(btc['max_price']) - float(btc['min_price'])\n",
    "\n",
    "if 변동폭 + float(btc['opening_price']) > float(btc['max_price']):\n",
    "    print(\"상승장\")\n",
    "else:\n",
    "    print(\"하락장\")"
   ]
  },
  {
   "cell_type": "code",
   "execution_count": null,
   "id": "50fe1667",
   "metadata": {},
   "outputs": [],
   "source": []
  }
 ],
 "metadata": {
  "kernelspec": {
   "display_name": "Python 3",
   "language": "python",
   "name": "python3"
  },
  "language_info": {
   "codemirror_mode": {
    "name": "ipython",
    "version": 3
   },
   "file_extension": ".py",
   "mimetype": "text/x-python",
   "name": "python",
   "nbconvert_exporter": "python",
   "pygments_lexer": "ipython3",
   "version": "3.8.8"
  }
 },
 "nbformat": 4,
 "nbformat_minor": 5
}
