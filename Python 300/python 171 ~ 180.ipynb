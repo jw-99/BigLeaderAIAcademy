{
 "cells": [
  {
   "cell_type": "code",
   "execution_count": 2,
   "id": "68edfeb6",
   "metadata": {},
   "outputs": [
    {
     "name": "stdout",
     "output_type": "stream",
     "text": [
      "32100\n",
      "32150\n",
      "32000\n",
      "32500\n"
     ]
    }
   ],
   "source": [
    "price_list = [32100, 32150, 32000, 32500]\n",
    "\n",
    "for i in range(len(price_list)):\n",
    "    print(price_list[i])"
   ]
  },
  {
   "cell_type": "code",
   "execution_count": 3,
   "id": "35405c69",
   "metadata": {},
   "outputs": [
    {
     "name": "stdout",
     "output_type": "stream",
     "text": [
      "0 32100\n",
      "1 32150\n",
      "2 32000\n",
      "3 32500\n"
     ]
    }
   ],
   "source": [
    "price_list = [32100, 32150, 32000, 32500]\n",
    "\n",
    "for i, j in enumerate(price_list):\n",
    "    print(i, j)"
   ]
  },
  {
   "cell_type": "code",
   "execution_count": 7,
   "id": "6aacb214",
   "metadata": {},
   "outputs": [
    {
     "name": "stdout",
     "output_type": "stream",
     "text": [
      "3 32100\n",
      "2 32150\n",
      "1 32000\n",
      "0 32500\n"
     ]
    }
   ],
   "source": [
    "price_list = [32100, 32150, 32000, 32500]\n",
    "\n",
    "for i, j in enumerate(price_list):\n",
    "    print(len(price_list)-1-i, j)"
   ]
  },
  {
   "cell_type": "code",
   "execution_count": 13,
   "id": "d0135aae",
   "metadata": {},
   "outputs": [
    {
     "name": "stdout",
     "output_type": "stream",
     "text": [
      "100 32150\n",
      "110 32000\n",
      "120 32500\n"
     ]
    }
   ],
   "source": [
    "price_list = [32100, 32150, 32000, 32500]\n",
    "\n",
    "for i, j in enumerate(price_list[1:]):\n",
    "    print(100  + i*10, j)"
   ]
  },
  {
   "cell_type": "code",
   "execution_count": 17,
   "id": "5e115d0b",
   "metadata": {},
   "outputs": [
    {
     "name": "stdout",
     "output_type": "stream",
     "text": [
      "가 나\n",
      "나 다\n",
      "다 라\n"
     ]
    }
   ],
   "source": [
    "my_list = [\"가\", \"나\", \"다\", \"라\"]\n",
    "\n",
    "for i in range(1, len(my_list)):\n",
    "    print(my_list[i-1], my_list[i])"
   ]
  },
  {
   "cell_type": "code",
   "execution_count": 22,
   "id": "34e8e056",
   "metadata": {},
   "outputs": [
    {
     "name": "stdout",
     "output_type": "stream",
     "text": [
      "가 나 다\n",
      "나 다 라\n",
      "다 라 마\n"
     ]
    }
   ],
   "source": [
    "my_list = [\"가\", \"나\", \"다\", \"라\", \"마\"]\n",
    "\n",
    "for i in range(1, len(my_list)-1):\n",
    "    print(my_list[i-1], my_list[i], my_list[i+1])"
   ]
  },
  {
   "cell_type": "code",
   "execution_count": 28,
   "id": "bd05415e",
   "metadata": {},
   "outputs": [
    {
     "name": "stdout",
     "output_type": "stream",
     "text": [
      "라 다\n",
      "다 나\n",
      "나 가\n"
     ]
    }
   ],
   "source": [
    "my_list = [\"가\", \"나\", \"다\", \"라\"]\n",
    "my_list.reverse()\n",
    "\n",
    "for i in range(1, len(my_list)):\n",
    "    print(my_list[i-1], my_list[i])"
   ]
  },
  {
   "cell_type": "code",
   "execution_count": 32,
   "id": "1368f5a4",
   "metadata": {},
   "outputs": [
    {
     "name": "stdout",
     "output_type": "stream",
     "text": [
      "100\n",
      "200\n",
      "400\n"
     ]
    }
   ],
   "source": [
    "my_list = [100, 200, 400, 800]\n",
    "\n",
    "for i in range(1,4):\n",
    "    print(my_list[i] - my_list[i-1])"
   ]
  },
  {
   "cell_type": "code",
   "execution_count": 33,
   "id": "b496ea8f",
   "metadata": {},
   "outputs": [
    {
     "name": "stdout",
     "output_type": "stream",
     "text": [
      "233.33333333333334\n",
      "466.6666666666667\n",
      "733.3333333333334\n",
      "1033.3333333333333\n"
     ]
    }
   ],
   "source": [
    "my_list = [100, 200, 400, 800, 1000, 1300]\n",
    "\n",
    "for i in range(len(my_list)-2):\n",
    "    print((my_list[i]+my_list[i+1]+my_list[i+2])/3)"
   ]
  },
  {
   "cell_type": "code",
   "execution_count": 38,
   "id": "314bdb05",
   "metadata": {},
   "outputs": [
    {
     "name": "stdout",
     "output_type": "stream",
     "text": [
      "[50, 100, 30, 80, 0]\n"
     ]
    }
   ],
   "source": [
    "low_prices = [100, 200, 400, 800, 1000]\n",
    "high_prices = [150, 300, 430, 880, 1000]\n",
    "volatility = []\n",
    "\n",
    "for i in range(len(low_prices)):\n",
    "    volatility.append(high_prices[i]- low_prices[i])\n",
    "print(volatility)"
   ]
  },
  {
   "cell_type": "code",
   "execution_count": null,
   "id": "5d3cee52",
   "metadata": {},
   "outputs": [],
   "source": []
  }
 ],
 "metadata": {
  "kernelspec": {
   "display_name": "Python 3",
   "language": "python",
   "name": "python3"
  },
  "language_info": {
   "codemirror_mode": {
    "name": "ipython",
    "version": 3
   },
   "file_extension": ".py",
   "mimetype": "text/x-python",
   "name": "python",
   "nbconvert_exporter": "python",
   "pygments_lexer": "ipython3",
   "version": "3.8.8"
  }
 },
 "nbformat": 4,
 "nbformat_minor": 5
}
