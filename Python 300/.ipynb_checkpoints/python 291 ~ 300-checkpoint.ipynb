{
 "cells": [
  {
   "cell_type": "code",
   "execution_count": 1,
   "id": "a8b415aa",
   "metadata": {},
   "outputs": [],
   "source": [
    "f = open(\"C:/Users/tkrhk/Desktop/매수종목1.txt\", mode = 'wt', encoding = 'utf-8')\n",
    "f.write(\"005930\\n\")\n",
    "f.write(\"005380\\n\")\n",
    "f.write(\"035420\\n\")\n",
    "f.close()"
   ]
  },
  {
   "cell_type": "code",
   "execution_count": 2,
   "id": "f7b0228b",
   "metadata": {},
   "outputs": [],
   "source": [
    "f = open(\"C:/Users/tkrhk/Desktop/매수종목2.txt\", mode = 'wt', encoding = 'utf-8')\n",
    "f.write(\"005930 삼성전자\\n\")\n",
    "f.write(\"005380 현대차\\n\")\n",
    "f.write(\"035420 NAVER\\n\")\n",
    "f.close()"
   ]
  },
  {
   "cell_type": "code",
   "execution_count": 4,
   "id": "834aabb1",
   "metadata": {},
   "outputs": [],
   "source": [
    "import csv\n",
    "\n",
    "f = open(\"C:/Users/tkrhk/Desktop/매수종목.csv\", mode = \"wt\", encoding = \"cp949\", newline = '')\n",
    "writer = csv.writer(f)\n",
    "writer.writerow([\"종목명\", \"종목코드\", \"PER\"])\n",
    "writer.writerow([\"삼성전자\", \"005930\", \"15.59\"])\n",
    "writer.writerow([\"NAVER\", \"035420\", \"55.82\"])\n",
    "f.close()"
   ]
  },
  {
   "cell_type": "code",
   "execution_count": 7,
   "id": "64a8dbed",
   "metadata": {},
   "outputs": [
    {
     "name": "stdout",
     "output_type": "stream",
     "text": [
      "['005930 삼성전자\\n', '005380 현대차\\n', '035420 NAVER\\n']\n",
      "['005930 삼성전자', '005380 현대차', '035420 NAVER']\n"
     ]
    }
   ],
   "source": [
    "f = open(\"C:/Users/tkrhk/Desktop/매수종목2.txt\", encoding = 'utf-8')\n",
    "lines = f.readlines()\n",
    "\n",
    "codes = []\n",
    "for line in lines:\n",
    "    code = line.strip()\n",
    "    codes.append(code)\n",
    "    \n",
    "print(codes)\n",
    "\n",
    "f.close()"
   ]
  },
  {
   "cell_type": "code",
   "execution_count": 15,
   "id": "19b6bd61",
   "metadata": {},
   "outputs": [
    {
     "name": "stdout",
     "output_type": "stream",
     "text": [
      "{'005930': '삼성전자', '005380': '현대차', '035420': 'NAVER'}\n"
     ]
    }
   ],
   "source": [
    "f = open(\"C:/Users/tkrhk/Desktop/매수종목2.txt\", encoding = 'utf-8')\n",
    "lines = f.readlines()\n",
    "\n",
    "data = {}\n",
    "\n",
    "for line in lines:\n",
    "    line = line.strip()\n",
    "    k, v = line.split()\n",
    "    data[k] = v\n",
    "    \n",
    "print(data)\n",
    "f.close()"
   ]
  },
  {
   "cell_type": "code",
   "execution_count": 23,
   "id": "c2266726",
   "metadata": {},
   "outputs": [
    {
     "name": "stdout",
     "output_type": "stream",
     "text": [
      "10.31\n",
      "0\n",
      "8.0\n"
     ]
    }
   ],
   "source": [
    "per = [\"10.31\", \"\", \"8.00\"]\n",
    "\n",
    "for i in per:\n",
    "    try:\n",
    "        print(float(i))\n",
    "    except:\n",
    "        print(0)"
   ]
  },
  {
   "cell_type": "code",
   "execution_count": 25,
   "id": "23a70bd1",
   "metadata": {},
   "outputs": [
    {
     "data": {
      "text/plain": [
       "[10.31, 0, 8.0]"
      ]
     },
     "execution_count": 25,
     "metadata": {},
     "output_type": "execute_result"
    }
   ],
   "source": [
    "per = [\"10.31\", \"\", \"8.00\"]\n",
    "\n",
    "list = []\n",
    "for i in per:\n",
    "    try:\n",
    "        list.append(float(i))\n",
    "    except:\n",
    "        list.append(0)\n",
    "list"
   ]
  },
  {
   "cell_type": "code",
   "execution_count": 28,
   "id": "51e0cd89",
   "metadata": {},
   "outputs": [
    {
     "name": "stdout",
     "output_type": "stream",
     "text": [
      "0으로 나누면 안되어요\n"
     ]
    }
   ],
   "source": [
    "try:\n",
    "    b = 10 / 0\n",
    "except ZeroDivisionError:\n",
    "    print(\"0으로 나누면 안되어요\")"
   ]
  },
  {
   "cell_type": "code",
   "execution_count": 30,
   "id": "7b44f461",
   "metadata": {},
   "outputs": [
    {
     "name": "stdout",
     "output_type": "stream",
     "text": [
      "1\n",
      "2\n",
      "3\n",
      "list index out of range\n",
      "list index out of range\n"
     ]
    }
   ],
   "source": [
    "data = [1,2,3]\n",
    "\n",
    "for i in range(5):\n",
    "    try:\n",
    "        print(data[i])\n",
    "    except IndexError as e:\n",
    "        print(e)"
   ]
  },
  {
   "cell_type": "code",
   "execution_count": 33,
   "id": "75acb6c6",
   "metadata": {},
   "outputs": [
    {
     "name": "stdout",
     "output_type": "stream",
     "text": [
      "10.31\n",
      "clean data\n",
      "변환완료\n",
      "0\n",
      "변환완료\n",
      "8.0\n",
      "clean data\n",
      "변환완료\n"
     ]
    }
   ],
   "source": [
    "per = [\"10.31\", \"\", \"8.00\"]\n",
    "\n",
    "for i in per:\n",
    "    try:\n",
    "        print(float(i))\n",
    "    except:\n",
    "        print(0)\n",
    "    else:\n",
    "        print(\"clean data\")\n",
    "    finally:\n",
    "        print(\"변환완료\")\n",
    "    "
   ]
  },
  {
   "cell_type": "code",
   "execution_count": null,
   "id": "6f0b7a90",
   "metadata": {},
   "outputs": [],
   "source": []
  }
 ],
 "metadata": {
  "kernelspec": {
   "display_name": "Python 3",
   "language": "python",
   "name": "python3"
  },
  "language_info": {
   "codemirror_mode": {
    "name": "ipython",
    "version": 3
   },
   "file_extension": ".py",
   "mimetype": "text/x-python",
   "name": "python",
   "nbconvert_exporter": "python",
   "pygments_lexer": "ipython3",
   "version": "3.8.8"
  }
 },
 "nbformat": 4,
 "nbformat_minor": 5
}
