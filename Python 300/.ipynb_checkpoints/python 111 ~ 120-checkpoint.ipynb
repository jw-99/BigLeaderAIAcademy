{
 "cells": [
  {
   "cell_type": "code",
   "execution_count": 2,
   "id": "17f50d59",
   "metadata": {},
   "outputs": [
    {
     "name": "stdout",
     "output_type": "stream",
     "text": [
      "입력:안녕하세요\n",
      "안녕하세요안녕하세요\n"
     ]
    }
   ],
   "source": [
    "a = input(\"입력:\")\n",
    "print(a*2)"
   ]
  },
  {
   "cell_type": "code",
   "execution_count": 4,
   "id": "e6210c43",
   "metadata": {},
   "outputs": [
    {
     "name": "stdout",
     "output_type": "stream",
     "text": [
      "숫자를 입력하세요:30\n",
      "40\n"
     ]
    }
   ],
   "source": [
    "b = input(\"숫자를 입력하세요:\")\n",
    "print(int(b)+10)"
   ]
  },
  {
   "cell_type": "code",
   "execution_count": 8,
   "id": "984a7af4",
   "metadata": {},
   "outputs": [
    {
     "name": "stdout",
     "output_type": "stream",
     "text": [
      "숫자를 입력하세요:30\n",
      "짝수\n"
     ]
    }
   ],
   "source": [
    "c = input('숫자를 입력하세요:')\n",
    "if int(c) % 2 == 0:\n",
    "    print(\"짝수\")\n",
    "else:\n",
    "    print(\"홀수\")"
   ]
  },
  {
   "cell_type": "code",
   "execution_count": 11,
   "id": "bc54b5f8",
   "metadata": {},
   "outputs": [
    {
     "name": "stdout",
     "output_type": "stream",
     "text": [
      "입력값:40\n",
      "60\n"
     ]
    }
   ],
   "source": [
    "d = input('입력값:')\n",
    "\n",
    "if (int(d) + 20) > 255:\n",
    "    print(255)\n",
    "else:\n",
    "    print(int(d) + 20)"
   ]
  },
  {
   "cell_type": "code",
   "execution_count": 14,
   "id": "905c9f09",
   "metadata": {},
   "outputs": [
    {
     "name": "stdout",
     "output_type": "stream",
     "text": [
      "입력값:15\n",
      "0\n"
     ]
    }
   ],
   "source": [
    "e = input('입력값:')\n",
    "\n",
    "if (int(e) - 20) > 255:\n",
    "    print(255)\n",
    "elif (int(e) - 20) < 0:\n",
    "    print(0)\n",
    "else:\n",
    "    print(int(e) - 20)"
   ]
  },
  {
   "cell_type": "code",
   "execution_count": 17,
   "id": "82cd10ed",
   "metadata": {},
   "outputs": [
    {
     "name": "stdout",
     "output_type": "stream",
     "text": [
      "현재시간:03:10\n",
      "정각이 아닙니다.\n"
     ]
    }
   ],
   "source": [
    "f = input(\"현재시간:\")\n",
    "if f[-2:] == '00':\n",
    "    print(\"정각 입니다.\")\n",
    "else:\n",
    "    print(\"정각이 아닙니다.\")"
   ]
  },
  {
   "cell_type": "code",
   "execution_count": 19,
   "id": "c7c1a465",
   "metadata": {},
   "outputs": [
    {
     "name": "stdout",
     "output_type": "stream",
     "text": [
      "좋아하는 과일은?홍시\n",
      "정답입니다.\n"
     ]
    }
   ],
   "source": [
    "fruit = [\"사과\", \"포도\", \"홍시\"]\n",
    "g = input(\"좋아하는 과일은?\")\n",
    "if g in fruit:\n",
    "    print(\"정답입니다.\")\n",
    "else:\n",
    "    print(\"오답입니다.\")"
   ]
  },
  {
   "cell_type": "code",
   "execution_count": 22,
   "id": "b2cd0cd2",
   "metadata": {},
   "outputs": [
    {
     "name": "stdout",
     "output_type": "stream",
     "text": [
      "종목명: Naver\n",
      "투자 경고 종목입니다.\n"
     ]
    }
   ],
   "source": [
    "warn_investment_list = [\"Microsoft\", \"Google\", \"Naver\", \"Kakao\", \"SAMSUMG\", \"LG\"]\n",
    "h = input(\"종목명: \")\n",
    "if h in warn_investment_list:\n",
    "    print(\"투자 경고 종목입니다.\")\n",
    "else:\n",
    "    print(\"투자 경고 종목이 아닙니다.\")"
   ]
  },
  {
   "cell_type": "code",
   "execution_count": 24,
   "id": "5e5d74cd",
   "metadata": {},
   "outputs": [
    {
     "name": "stdout",
     "output_type": "stream",
     "text": [
      "제가좋아하는 계절은: 봄\n",
      "정답입니다.\n"
     ]
    }
   ],
   "source": [
    "fruit = {\"봄\": \"딸기\", \"여름\": \"토마토\", \"가을\": \"사과\"}\n",
    "i = input(\"제가좋아하는 계절은: \")\n",
    "if i in fruit.keys():\n",
    "    print(\"정답입니다.\")\n",
    "else:\n",
    "    print(\"오답입니다.\")"
   ]
  },
  {
   "cell_type": "code",
   "execution_count": 25,
   "id": "6a863f7d",
   "metadata": {},
   "outputs": [
    {
     "name": "stdout",
     "output_type": "stream",
     "text": [
      "좋아하는 과일은? 한라봉\n",
      "오답입니다.\n"
     ]
    }
   ],
   "source": [
    "fruit = {\"봄\": \"딸기\", \"여름\": \"토마토\", \"가을\": \"사과\"}\n",
    "i = input(\"좋아하는 과일은? \")\n",
    "if i in fruit.values():\n",
    "    print(\"정답입니다.\")\n",
    "else:\n",
    "    print(\"오답입니다.\")"
   ]
  },
  {
   "cell_type": "code",
   "execution_count": null,
   "id": "09fd25a9",
   "metadata": {},
   "outputs": [],
   "source": []
  }
 ],
 "metadata": {
  "kernelspec": {
   "display_name": "Python 3",
   "language": "python",
   "name": "python3"
  },
  "language_info": {
   "codemirror_mode": {
    "name": "ipython",
    "version": 3
   },
   "file_extension": ".py",
   "mimetype": "text/x-python",
   "name": "python",
   "nbconvert_exporter": "python",
   "pygments_lexer": "ipython3",
   "version": "3.8.8"
  }
 },
 "nbformat": 4,
 "nbformat_minor": 5
}
