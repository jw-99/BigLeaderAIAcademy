{
 "cells": [
  {
   "cell_type": "markdown",
   "id": "5ffef095",
   "metadata": {},
   "source": [
    "# 한개\n",
    "## 두개\n",
    "### 세개"
   ]
  },
  {
   "cell_type": "code",
   "execution_count": 10,
   "id": "9ccaa2b7",
   "metadata": {},
   "outputs": [
    {
     "ename": "SyntaxError",
     "evalue": "EOL while scanning string literal (<ipython-input-10-038769ce2bcf>, line 1)",
     "output_type": "error",
     "traceback": [
      "\u001b[1;36m  File \u001b[1;32m\"<ipython-input-10-038769ce2bcf>\"\u001b[1;36m, line \u001b[1;32m1\u001b[0m\n\u001b[1;33m    'python is\u001b[0m\n\u001b[1;37m               ^\u001b[0m\n\u001b[1;31mSyntaxError\u001b[0m\u001b[1;31m:\u001b[0m EOL while scanning string literal\n"
     ]
    }
   ],
   "source": [
    "'python is \n",
    "good language!!!'"
   ]
  },
  {
   "cell_type": "code",
   "execution_count": 7,
   "id": "d8cae3e7",
   "metadata": {},
   "outputs": [
    {
     "data": {
      "text/plain": [
       "'python'"
      ]
     },
     "execution_count": 7,
     "metadata": {},
     "output_type": "execute_result"
    }
   ],
   "source": [
    "\"python\""
   ]
  },
  {
   "cell_type": "code",
   "execution_count": 11,
   "id": "26a0a843",
   "metadata": {},
   "outputs": [
    {
     "data": {
      "text/plain": [
       "'python \\nis good language'"
      ]
     },
     "execution_count": 11,
     "metadata": {},
     "output_type": "execute_result"
    }
   ],
   "source": [
    "'''python \n",
    "is good language'''"
   ]
  },
  {
   "cell_type": "code",
   "execution_count": 9,
   "id": "1d018e1a",
   "metadata": {},
   "outputs": [
    {
     "data": {
      "text/plain": [
       "'python'"
      ]
     },
     "execution_count": 9,
     "metadata": {},
     "output_type": "execute_result"
    }
   ],
   "source": [
    "\"\"\"python\"\"\""
   ]
  },
  {
   "cell_type": "code",
   "execution_count": 12,
   "id": "3f7417ca",
   "metadata": {},
   "outputs": [
    {
     "name": "stdout",
     "output_type": "stream",
     "text": [
      "pytyhon is good language\n"
     ]
    }
   ],
   "source": [
    "print('pytyhon is good language')"
   ]
  },
  {
   "cell_type": "code",
   "execution_count": 13,
   "id": "816a9bfb",
   "metadata": {},
   "outputs": [
    {
     "name": "stdout",
     "output_type": "stream",
     "text": [
      "\"python is good language\"\n"
     ]
    }
   ],
   "source": [
    "print('\"python is good language\"')"
   ]
  },
  {
   "cell_type": "code",
   "execution_count": 14,
   "id": "ab86d40c",
   "metadata": {},
   "outputs": [
    {
     "name": "stdout",
     "output_type": "stream",
     "text": [
      "'python is good language'\n"
     ]
    }
   ],
   "source": [
    "print(\"'python is good language'\")"
   ]
  },
  {
   "cell_type": "code",
   "execution_count": 16,
   "id": "c486aabd",
   "metadata": {},
   "outputs": [
    {
     "name": "stdout",
     "output_type": "stream",
     "text": [
      "'python 'is good language'\n"
     ]
    }
   ],
   "source": [
    "print(\"'python \\'is good language'\")"
   ]
  },
  {
   "cell_type": "code",
   "execution_count": 18,
   "id": "cb605f5c",
   "metadata": {},
   "outputs": [
    {
     "name": "stdout",
     "output_type": "stream",
     "text": [
      "'python \n",
      "is good language'\n"
     ]
    }
   ],
   "source": [
    "print(\"'python \\nis good language'\")"
   ]
  },
  {
   "cell_type": "code",
   "execution_count": 26,
   "id": "976a6009",
   "metadata": {},
   "outputs": [],
   "source": [
    "str1 = 'python is good language'"
   ]
  },
  {
   "cell_type": "code",
   "execution_count": 27,
   "id": "20b7b883",
   "metadata": {},
   "outputs": [
    {
     "data": {
      "text/plain": [
       "23"
      ]
     },
     "execution_count": 27,
     "metadata": {},
     "output_type": "execute_result"
    }
   ],
   "source": [
    "len(str1)"
   ]
  },
  {
   "cell_type": "code",
   "execution_count": 28,
   "id": "c8ee8307",
   "metadata": {},
   "outputs": [
    {
     "data": {
      "text/plain": [
       "'p'"
      ]
     },
     "execution_count": 28,
     "metadata": {},
     "output_type": "execute_result"
    }
   ],
   "source": [
    "str1[0]"
   ]
  },
  {
   "cell_type": "code",
   "execution_count": 29,
   "id": "8eb709f6",
   "metadata": {},
   "outputs": [
    {
     "data": {
      "text/plain": [
       "'python'"
      ]
     },
     "execution_count": 29,
     "metadata": {},
     "output_type": "execute_result"
    }
   ],
   "source": [
    "str1[0:6]"
   ]
  },
  {
   "cell_type": "code",
   "execution_count": 32,
   "id": "d27bab1f",
   "metadata": {},
   "outputs": [
    {
     "data": {
      "text/plain": [
       "'python is good language'"
      ]
     },
     "execution_count": 32,
     "metadata": {},
     "output_type": "execute_result"
    }
   ],
   "source": [
    "str1[0:]"
   ]
  },
  {
   "cell_type": "code",
   "execution_count": 33,
   "id": "2a8d8cce",
   "metadata": {},
   "outputs": [
    {
     "data": {
      "text/plain": [
       "'python'"
      ]
     },
     "execution_count": 33,
     "metadata": {},
     "output_type": "execute_result"
    }
   ],
   "source": [
    "str1[:6]"
   ]
  },
  {
   "cell_type": "code",
   "execution_count": 34,
   "id": "7960747c",
   "metadata": {},
   "outputs": [
    {
     "data": {
      "text/plain": [
       "'e'"
      ]
     },
     "execution_count": 34,
     "metadata": {},
     "output_type": "execute_result"
    }
   ],
   "source": [
    "str1[-1]"
   ]
  },
  {
   "cell_type": "code",
   "execution_count": 36,
   "id": "f33db636",
   "metadata": {},
   "outputs": [],
   "source": [
    "name = 'hong'\n",
    "age = 24"
   ]
  },
  {
   "cell_type": "code",
   "execution_count": 39,
   "id": "4fc4fc08",
   "metadata": {},
   "outputs": [
    {
     "name": "stdout",
     "output_type": "stream",
     "text": [
      "name is hong age is 24\n"
     ]
    }
   ],
   "source": [
    "print('name is %s age is %d' %(name, age))"
   ]
  },
  {
   "cell_type": "code",
   "execution_count": 40,
   "id": "401bef20",
   "metadata": {},
   "outputs": [
    {
     "name": "stdout",
     "output_type": "stream",
     "text": [
      "name is hong age is 24\n"
     ]
    }
   ],
   "source": [
    "print('name is {} age is {}'.format(name, age))"
   ]
  },
  {
   "cell_type": "code",
   "execution_count": 41,
   "id": "97742281",
   "metadata": {},
   "outputs": [
    {
     "name": "stdout",
     "output_type": "stream",
     "text": [
      "name is hong age is 24 namehong\n"
     ]
    }
   ],
   "source": [
    "print('name is {0} age is {1} name{0}'.format(name, age))"
   ]
  },
  {
   "cell_type": "code",
   "execution_count": 42,
   "id": "cf40228e",
   "metadata": {
    "scrolled": true
   },
   "outputs": [
    {
     "name": "stdout",
     "output_type": "stream",
     "text": [
      "name is hong age is 24\n"
     ]
    }
   ],
   "source": [
    "print(f'name is {name} age is {age}')"
   ]
  },
  {
   "cell_type": "code",
   "execution_count": 47,
   "id": "5d6c8baa",
   "metadata": {},
   "outputs": [],
   "source": [
    "str1 = 'python is good language'"
   ]
  },
  {
   "cell_type": "code",
   "execution_count": 45,
   "id": "42fd6be5",
   "metadata": {},
   "outputs": [
    {
     "data": {
      "text/plain": [
       "13"
      ]
     },
     "execution_count": 45,
     "metadata": {},
     "output_type": "execute_result"
    }
   ],
   "source": [
    "str1.find('d')"
   ]
  },
  {
   "cell_type": "code",
   "execution_count": 49,
   "id": "105861c8",
   "metadata": {},
   "outputs": [
    {
     "data": {
      "text/plain": [
       "13"
      ]
     },
     "execution_count": 49,
     "metadata": {},
     "output_type": "execute_result"
    }
   ],
   "source": [
    "str1.index('d')"
   ]
  },
  {
   "cell_type": "code",
   "execution_count": 52,
   "id": "65c1c769",
   "metadata": {},
   "outputs": [
    {
     "data": {
      "text/plain": [
       "-1"
      ]
     },
     "execution_count": 52,
     "metadata": {},
     "output_type": "execute_result"
    }
   ],
   "source": [
    "str1.find('f')"
   ]
  },
  {
   "cell_type": "code",
   "execution_count": 53,
   "id": "12ac3106",
   "metadata": {},
   "outputs": [
    {
     "ename": "ValueError",
     "evalue": "substring not found",
     "output_type": "error",
     "traceback": [
      "\u001b[1;31m---------------------------------------------------------------------------\u001b[0m",
      "\u001b[1;31mValueError\u001b[0m                                Traceback (most recent call last)",
      "\u001b[1;32m<ipython-input-53-52f089beefad>\u001b[0m in \u001b[0;36m<module>\u001b[1;34m\u001b[0m\n\u001b[1;32m----> 1\u001b[1;33m \u001b[0mstr1\u001b[0m\u001b[1;33m.\u001b[0m\u001b[0mindex\u001b[0m\u001b[1;33m(\u001b[0m\u001b[1;34m'f'\u001b[0m\u001b[1;33m)\u001b[0m\u001b[1;33m\u001b[0m\u001b[1;33m\u001b[0m\u001b[0m\n\u001b[0m",
      "\u001b[1;31mValueError\u001b[0m: substring not found"
     ]
    }
   ],
   "source": [
    "str1.index('f')"
   ]
  },
  {
   "cell_type": "code",
   "execution_count": 54,
   "id": "735bfe9f",
   "metadata": {},
   "outputs": [
    {
     "data": {
      "text/plain": [
       "'python is good language'"
      ]
     },
     "execution_count": 54,
     "metadata": {},
     "output_type": "execute_result"
    }
   ],
   "source": [
    "str1"
   ]
  },
  {
   "cell_type": "code",
   "execution_count": 55,
   "id": "e0611a01",
   "metadata": {},
   "outputs": [
    {
     "data": {
      "text/plain": [
       "['python', 'is', 'good', 'language']"
      ]
     },
     "execution_count": 55,
     "metadata": {},
     "output_type": "execute_result"
    }
   ],
   "source": [
    "str1.split()"
   ]
  },
  {
   "cell_type": "code",
   "execution_count": 56,
   "id": "fc29a6fc",
   "metadata": {},
   "outputs": [],
   "source": [
    "lst = str1.split()"
   ]
  },
  {
   "cell_type": "code",
   "execution_count": 57,
   "id": "52c4e789",
   "metadata": {},
   "outputs": [
    {
     "data": {
      "text/plain": [
       "'is'"
      ]
     },
     "execution_count": 57,
     "metadata": {},
     "output_type": "execute_result"
    }
   ],
   "source": [
    "lst[1]"
   ]
  },
  {
   "cell_type": "code",
   "execution_count": 58,
   "id": "bb251940",
   "metadata": {},
   "outputs": [
    {
     "data": {
      "text/plain": [
       "['python', 'is', 'good', 'language']"
      ]
     },
     "execution_count": 58,
     "metadata": {},
     "output_type": "execute_result"
    }
   ],
   "source": [
    "lst[:]"
   ]
  },
  {
   "cell_type": "code",
   "execution_count": 60,
   "id": "7654e137",
   "metadata": {},
   "outputs": [
    {
     "data": {
      "text/plain": [
       "list"
      ]
     },
     "execution_count": 60,
     "metadata": {},
     "output_type": "execute_result"
    }
   ],
   "source": [
    "type(lst)"
   ]
  },
  {
   "cell_type": "code",
   "execution_count": 64,
   "id": "003171fa",
   "metadata": {},
   "outputs": [
    {
     "data": {
      "text/plain": [
       "str"
      ]
     },
     "execution_count": 64,
     "metadata": {},
     "output_type": "execute_result"
    }
   ],
   "source": [
    "type(str1)"
   ]
  },
  {
   "cell_type": "code",
   "execution_count": 65,
   "id": "0c37f1a9",
   "metadata": {},
   "outputs": [
    {
     "name": "stdout",
     "output_type": "stream",
     "text": [
      "myname is hong\n"
     ]
    }
   ],
   "source": [
    "print('myname','is','hong')"
   ]
  },
  {
   "cell_type": "code",
   "execution_count": 66,
   "id": "69adeb46",
   "metadata": {},
   "outputs": [
    {
     "name": "stdout",
     "output_type": "stream",
     "text": [
      "age is 24\n"
     ]
    }
   ],
   "source": [
    "print('age','is',age)"
   ]
  },
  {
   "cell_type": "code",
   "execution_count": 67,
   "id": "a79a7328",
   "metadata": {},
   "outputs": [
    {
     "name": "stdout",
     "output_type": "stream",
     "text": [
      "aaaa\n"
     ]
    }
   ],
   "source": [
    "a = input()"
   ]
  },
  {
   "cell_type": "code",
   "execution_count": 69,
   "id": "0d907f62",
   "metadata": {},
   "outputs": [
    {
     "name": "stdout",
     "output_type": "stream",
     "text": [
      "aaaa\n"
     ]
    }
   ],
   "source": [
    "print(a)"
   ]
  },
  {
   "cell_type": "code",
   "execution_count": 70,
   "id": "18d9d8e3",
   "metadata": {},
   "outputs": [
    {
     "name": "stdout",
     "output_type": "stream",
     "text": [
      "1234\n"
     ]
    }
   ],
   "source": [
    "a = input()"
   ]
  },
  {
   "cell_type": "code",
   "execution_count": 71,
   "id": "300de0a0",
   "metadata": {},
   "outputs": [
    {
     "name": "stdout",
     "output_type": "stream",
     "text": [
      "1234\n"
     ]
    }
   ],
   "source": [
    "print(a)"
   ]
  },
  {
   "cell_type": "code",
   "execution_count": 72,
   "id": "6c3adf27",
   "metadata": {},
   "outputs": [
    {
     "data": {
      "text/plain": [
       "str"
      ]
     },
     "execution_count": 72,
     "metadata": {},
     "output_type": "execute_result"
    }
   ],
   "source": [
    "type(a)"
   ]
  },
  {
   "cell_type": "code",
   "execution_count": 73,
   "id": "00281b5e",
   "metadata": {},
   "outputs": [
    {
     "data": {
      "text/plain": [
       "1234"
      ]
     },
     "execution_count": 73,
     "metadata": {},
     "output_type": "execute_result"
    }
   ],
   "source": [
    "a = int(a)"
   ]
  },
  {
   "cell_type": "code",
   "execution_count": 75,
   "id": "a4b1d289",
   "metadata": {},
   "outputs": [
    {
     "data": {
      "text/plain": [
       "str"
      ]
     },
     "execution_count": 75,
     "metadata": {},
     "output_type": "execute_result"
    }
   ],
   "source": [
    "type(a)"
   ]
  },
  {
   "cell_type": "code",
   "execution_count": 76,
   "id": "aee2b75d",
   "metadata": {},
   "outputs": [
    {
     "name": "stdout",
     "output_type": "stream",
     "text": [
      "정수입력:12345\n"
     ]
    }
   ],
   "source": [
    "a = int(input('정수입력:'))"
   ]
  },
  {
   "cell_type": "code",
   "execution_count": 77,
   "id": "28a239df",
   "metadata": {},
   "outputs": [
    {
     "data": {
      "text/plain": [
       "12345"
      ]
     },
     "execution_count": 77,
     "metadata": {},
     "output_type": "execute_result"
    }
   ],
   "source": [
    "a"
   ]
  },
  {
   "cell_type": "code",
   "execution_count": 78,
   "id": "1f141078",
   "metadata": {},
   "outputs": [
    {
     "data": {
      "text/plain": [
       "int"
      ]
     },
     "execution_count": 78,
     "metadata": {},
     "output_type": "execute_result"
    }
   ],
   "source": [
    "type(a)"
   ]
  },
  {
   "cell_type": "code",
   "execution_count": 92,
   "id": "e0366ca9",
   "metadata": {},
   "outputs": [
    {
     "name": "stdout",
     "output_type": "stream",
     "text": [
      "이름과 주소입력:홍길동/창원\n"
     ]
    }
   ],
   "source": [
    "name, address = input('이름과 주소입력:').split('/')"
   ]
  },
  {
   "cell_type": "code",
   "execution_count": 87,
   "id": "513823aa",
   "metadata": {},
   "outputs": [
    {
     "name": "stdout",
     "output_type": "stream",
     "text": [
      "이름과 주소입력:홍길동 창원\n"
     ]
    }
   ],
   "source": [
    "name, address = input('이름과 주소입력:').split()"
   ]
  },
  {
   "cell_type": "code",
   "execution_count": 88,
   "id": "5c0a780e",
   "metadata": {},
   "outputs": [
    {
     "name": "stdout",
     "output_type": "stream",
     "text": [
      "홍길동 창원\n"
     ]
    }
   ],
   "source": [
    "print(name, address)"
   ]
  },
  {
   "cell_type": "code",
   "execution_count": 89,
   "id": "22752a50",
   "metadata": {},
   "outputs": [
    {
     "name": "stdout",
     "output_type": "stream",
     "text": [
      "이름:\n",
      "주소:\n"
     ]
    }
   ],
   "source": [
    "name = input('이름:')\n",
    "address = input('주소:')"
   ]
  },
  {
   "cell_type": "code",
   "execution_count": 90,
   "id": "bf277d1d",
   "metadata": {},
   "outputs": [],
   "source": [
    "a=b=1"
   ]
  },
  {
   "cell_type": "code",
   "execution_count": 93,
   "id": "1d024e69",
   "metadata": {},
   "outputs": [
    {
     "name": "stdout",
     "output_type": "stream",
     "text": [
      "나이, 학년(정수입력):10 1\n"
     ]
    },
    {
     "ename": "TypeError",
     "evalue": "int() argument must be a string, a bytes-like object or a number, not 'list'",
     "output_type": "error",
     "traceback": [
      "\u001b[1;31m---------------------------------------------------------------------------\u001b[0m",
      "\u001b[1;31mTypeError\u001b[0m                                 Traceback (most recent call last)",
      "\u001b[1;32m<ipython-input-93-43f6611ff744>\u001b[0m in \u001b[0;36m<module>\u001b[1;34m\u001b[0m\n\u001b[1;32m----> 1\u001b[1;33m \u001b[0mage\u001b[0m\u001b[1;33m,\u001b[0m \u001b[0mgrade\u001b[0m \u001b[1;33m=\u001b[0m \u001b[0mint\u001b[0m\u001b[1;33m(\u001b[0m\u001b[0minput\u001b[0m\u001b[1;33m(\u001b[0m\u001b[1;34m'나이, 학년(정수입력):'\u001b[0m\u001b[1;33m)\u001b[0m\u001b[1;33m.\u001b[0m\u001b[0msplit\u001b[0m\u001b[1;33m(\u001b[0m\u001b[1;33m)\u001b[0m\u001b[1;33m)\u001b[0m\u001b[1;33m\u001b[0m\u001b[1;33m\u001b[0m\u001b[0m\n\u001b[0m",
      "\u001b[1;31mTypeError\u001b[0m: int() argument must be a string, a bytes-like object or a number, not 'list'"
     ]
    }
   ],
   "source": [
    "age, grade = int(input('나이, 학년(정수입력):').split())"
   ]
  },
  {
   "cell_type": "code",
   "execution_count": 2,
   "id": "3c93269d",
   "metadata": {},
   "outputs": [
    {
     "name": "stdout",
     "output_type": "stream",
     "text": [
      "나이, 학년(정수입력):20 20\n"
     ]
    }
   ],
   "source": [
    "age, grade = map(int, input('나이, 학년(정수입력):').split())"
   ]
  },
  {
   "cell_type": "code",
   "execution_count": 4,
   "id": "75bb2f1f",
   "metadata": {},
   "outputs": [
    {
     "data": {
      "text/plain": [
       "int"
      ]
     },
     "execution_count": 4,
     "metadata": {},
     "output_type": "execute_result"
    }
   ],
   "source": [
    "type(age)"
   ]
  },
  {
   "cell_type": "code",
   "execution_count": null,
   "id": "68427db4",
   "metadata": {},
   "outputs": [],
   "source": []
  }
 ],
 "metadata": {
  "kernelspec": {
   "display_name": "Python 3",
   "language": "python",
   "name": "python3"
  },
  "language_info": {
   "codemirror_mode": {
    "name": "ipython",
    "version": 3
   },
   "file_extension": ".py",
   "mimetype": "text/x-python",
   "name": "python",
   "nbconvert_exporter": "python",
   "pygments_lexer": "ipython3",
   "version": "3.8.8"
  }
 },
 "nbformat": 4,
 "nbformat_minor": 5
}
