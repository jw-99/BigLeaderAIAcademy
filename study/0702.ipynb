{
 "cells": [
  {
   "cell_type": "markdown",
   "id": "28e4ca1f",
   "metadata": {},
   "source": [
    "# 프로그래머스  [1차] 다트 게임"
   ]
  },
  {
   "cell_type": "code",
   "execution_count": 199,
   "id": "a03fabd8",
   "metadata": {},
   "outputs": [],
   "source": [
    "# 실패한 풀이\n",
    "def solution(dartResult):\n",
    "    a = []\n",
    "    for i, j in enumerate(['S','D','T']):\n",
    "        if j in dartResult:\n",
    "            a.append(int(dartResult[dartResult.find(j)-1])**(i+1))\n",
    "\n",
    "    if '*' in dartResult:\n",
    "        a[int((dartResult.find('*')-2)/2)] = a[int((dartResult.find('*')-2)/2)] *2\n",
    "        a[int((dartResult.find('*')-2)/2)-1] = a[int((dartResult.find('*')-2)/2)-1] *2\n",
    "    elif '#' in dartResult:\n",
    "        a[int((dartResult.find('#')-2)/2)] = a[int((dartResult.find('#')-2)/2)] *(-1)\n",
    "    answer = sum(a)\n",
    "    return answer"
   ]
  },
  {
   "cell_type": "code",
   "execution_count": 200,
   "id": "bd5c9657",
   "metadata": {},
   "outputs": [],
   "source": [
    "# 다른 풀이\n",
    "def solution(dartResult):\n",
    "    a=[]\n",
    "    plus=['S','D','T']\n",
    "    dartResult=dartResult.replace('10','k')\n",
    "\n",
    "    for i in dartResult:\n",
    "        if i in plus :\n",
    "            a[-1]=a[-1]**(plus.index(i)+1)\n",
    "        elif i== '#':\n",
    "            a[-1]=a[-1]*(-1)\n",
    "        elif i=='*':\n",
    "            if len(a)>1:\n",
    "                a[-2]=a[-2]*2\n",
    "                a[-1]=a[-1]*2\n",
    "            else:\n",
    "                a[-1] = a[-1] * 2\n",
    "        else:\n",
    "            if i=='k':\n",
    "                i=int('10')\n",
    "            a.append(int(i))\n",
    "    return sum(a)"
   ]
  }
 ],
 "metadata": {
  "kernelspec": {
   "display_name": "Python 3",
   "language": "python",
   "name": "python3"
  },
  "language_info": {
   "codemirror_mode": {
    "name": "ipython",
    "version": 3
   },
   "file_extension": ".py",
   "mimetype": "text/x-python",
   "name": "python",
   "nbconvert_exporter": "python",
   "pygments_lexer": "ipython3",
   "version": "3.8.8"
  }
 },
 "nbformat": 4,
 "nbformat_minor": 5
}
