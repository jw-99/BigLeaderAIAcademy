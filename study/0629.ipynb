{
 "cells": [
  {
   "cell_type": "markdown",
   "id": "be732c78",
   "metadata": {},
   "source": [
    "# 프로그래머스 두 개 뽑아서 더하기"
   ]
  },
  {
   "cell_type": "code",
   "execution_count": null,
   "id": "e035a778",
   "metadata": {},
   "outputs": [],
   "source": [
    "# 실패한 풀이\n",
    "for a, i in enumerate(numbers):\n",
    "    for j in numbers:\n",
    "        if a == numbers.index(j):\n",
    "            answer = answer\n",
    "        elif i != j:\n",
    "            answer.append(i + j)\n",
    "set_answer = set(answer)\n",
    "list_answer = list(set_answer)\n",
    "\n",
    "print(list_answer)     "
   ]
  },
  {
   "cell_type": "code",
   "execution_count": null,
   "id": "57f4c4be",
   "metadata": {},
   "outputs": [],
   "source": [
    "# 정답\n",
    "def solution(numbers):\n",
    "    answer = []\n",
    "    for i in range(len(numbers)):\n",
    "        for j in range(i+1, len(numbers)):\n",
    "            answer.append(numbers[i]+ numbers[j])\n",
    "    return sorted(list(set(answer)))"
   ]
  },
  {
   "cell_type": "code",
   "execution_count": null,
   "id": "b5da4ddf",
   "metadata": {},
   "outputs": [],
   "source": [
    "numbers = [2, 1, 3, 4, 1]\n",
    "solution(numbers)"
   ]
  },
  {
   "cell_type": "markdown",
   "id": "5f7c49f1",
   "metadata": {},
   "source": [
    "# 백준 제로"
   ]
  },
  {
   "cell_type": "code",
   "execution_count": 53,
   "id": "6e6a1114",
   "metadata": {},
   "outputs": [
    {
     "name": "stdout",
     "output_type": "stream",
     "text": [
      "4\n",
      "0\n",
      "3\n",
      "0\n",
      "7\n"
     ]
    }
   ],
   "source": [
    "# 실패한 풀이\n",
    "a = 0\n",
    "b = []\n",
    "for i in range(k):\n",
    "    j = int(input())\n",
    "    a += j\n",
    "    b.append(j)\n",
    "    \n",
    "print(a) "
   ]
  },
  {
   "cell_type": "code",
   "execution_count": 60,
   "id": "10df19ac",
   "metadata": {},
   "outputs": [
    {
     "name": "stdout",
     "output_type": "stream",
     "text": [
      "4\n",
      "3\n",
      "0\n",
      "4\n",
      "0\n",
      "0\n"
     ]
    }
   ],
   "source": [
    "# 정답\n",
    "k = int(input())\n",
    "b = []\n",
    "for i in range(k):\n",
    "    a = int(input())\n",
    "    \n",
    "    if a == 0:\n",
    "        b.pop(-1)\n",
    "    else:\n",
    "        b.append(a)\n",
    "print(sum(b)) "
   ]
  }
 ],
 "metadata": {
  "kernelspec": {
   "display_name": "Python 3",
   "language": "python",
   "name": "python3"
  },
  "language_info": {
   "codemirror_mode": {
    "name": "ipython",
    "version": 3
   },
   "file_extension": ".py",
   "mimetype": "text/x-python",
   "name": "python",
   "nbconvert_exporter": "python",
   "pygments_lexer": "ipython3",
   "version": "3.8.8"
  }
 },
 "nbformat": 4,
 "nbformat_minor": 5
}
