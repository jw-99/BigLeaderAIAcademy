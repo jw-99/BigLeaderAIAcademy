{
 "cells": [
  {
   "cell_type": "markdown",
   "id": "ed7b00cb",
   "metadata": {},
   "source": [
    "# 프로그래머스 2016"
   ]
  },
  {
   "cell_type": "code",
   "execution_count": null,
   "id": "58390fcc",
   "metadata": {},
   "outputs": [],
   "source": [
    "def solution(a,b):\n",
    "    answer = 0\n",
    "    list = [\"FRI\",\"SAT\",\"SUN\",\"MON\",\"TUE\",\"WED\",\"THU\"]\n",
    "    list1 = list*53\n",
    "    list2 = [31, 29, 31,30,31,30,31,31,30,31,30,31]\n",
    "    m = []\n",
    "    for i in list2:\n",
    "        m.append(list1[0:i])\n",
    "        del list1[0:i]\n",
    "    answer  = m[a-1][b-1]\n",
    "    return answer"
   ]
  },
  {
   "cell_type": "markdown",
   "id": "d4f495d3",
   "metadata": {},
   "source": [
    "# 프로그래머스 크레인 뽑기"
   ]
  },
  {
   "cell_type": "code",
   "execution_count": 466,
   "id": "1180a07e",
   "metadata": {},
   "outputs": [],
   "source": [
    "def solution(board, moves):\n",
    "    answer = 0\n",
    "    s = []\n",
    "    for j in moves:\n",
    "        for i in range(len(board)):\n",
    "            if board[i][j-1] != 0:\n",
    "                s.append(board[i][j-1])\n",
    "                board[i][j-1] = 0\n",
    "                break\n",
    "        for k in range(len(s)-1):\n",
    "            if s[k] == s[k+1]:\n",
    "                answer += 2\n",
    "                del s[k]\n",
    "                del s[k]\n",
    "    return answer"
   ]
  },
  {
   "cell_type": "code",
   "execution_count": 468,
   "id": "97a2e424",
   "metadata": {},
   "outputs": [],
   "source": [
    "board = [[0,0,0,0,0],[0,0,1,0,3],[0,2,5,0,1],[4,2,4,4,2],[3,5,1,3,1]]\n",
    "moves = [1,5,3,5,1,2,1,4]"
   ]
  },
  {
   "cell_type": "code",
   "execution_count": 469,
   "id": "af322757",
   "metadata": {},
   "outputs": [
    {
     "data": {
      "text/plain": [
       "4"
      ]
     },
     "execution_count": 469,
     "metadata": {},
     "output_type": "execute_result"
    }
   ],
   "source": [
    "solution(board, moves)"
   ]
  },
  {
   "cell_type": "code",
   "execution_count": null,
   "id": "c89e0649",
   "metadata": {},
   "outputs": [],
   "source": []
  }
 ],
 "metadata": {
  "kernelspec": {
   "display_name": "Python 3",
   "language": "python",
   "name": "python3"
  },
  "language_info": {
   "codemirror_mode": {
    "name": "ipython",
    "version": 3
   },
   "file_extension": ".py",
   "mimetype": "text/x-python",
   "name": "python",
   "nbconvert_exporter": "python",
   "pygments_lexer": "ipython3",
   "version": "3.8.8"
  }
 },
 "nbformat": 4,
 "nbformat_minor": 5
}
