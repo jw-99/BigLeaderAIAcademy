{
 "cells": [
  {
   "cell_type": "code",
   "execution_count": 2,
   "id": "f9936008",
   "metadata": {},
   "outputs": [],
   "source": [
    "s = 'python python'"
   ]
  },
  {
   "cell_type": "code",
   "execution_count": 23,
   "id": "e82c84b9",
   "metadata": {},
   "outputs": [],
   "source": [
    "# 내풀이\n",
    "def solution(s):\n",
    "    answer = ''\n",
    "    b = list(s)\n",
    "    for i in range(len(s)):\n",
    "        if i % 2 == 0:\n",
    "            b[i] = b[i].upper()\n",
    "        elif i % 2 == 1:\n",
    "            b[i] = b[i].lower()\n",
    "    answer = \"\".join(b) \n",
    "    return answer"
   ]
  },
  {
   "cell_type": "code",
   "execution_count": null,
   "id": "746a0243",
   "metadata": {},
   "outputs": [],
   "source": [
    "# 정답\n",
    "def solution(s):\n",
    "    l = list(s.split(\" \"))\n",
    "    nl = []\n",
    "    for e in l:\n",
    "        nc = \"\"\n",
    "        for i, c in enumerate(e):\n",
    "            if i % 2 == 0:\n",
    "                nc += c.upper()\n",
    "            else:\n",
    "                nc += c.lower()\n",
    "        nl.append(nc)\n",
    "    return \" \".join(nl)"
   ]
  },
  {
   "cell_type": "code",
   "execution_count": 24,
   "id": "01b81773",
   "metadata": {
    "scrolled": true
   },
   "outputs": [],
   "source": [
    "solution(s)"
   ]
  },
  {
   "cell_type": "code",
   "execution_count": null,
   "id": "f30818a6",
   "metadata": {},
   "outputs": [],
   "source": [
    "[j for j in i if j % 2 == 0]"
   ]
  },
  {
   "cell_type": "code",
   "execution_count": null,
   "id": "956977e1",
   "metadata": {},
   "outputs": [],
   "source": [
    "    b = s.split()\n",
    "    print(b)"
   ]
  },
  {
   "cell_type": "code",
   "execution_count": null,
   "id": "f167d603",
   "metadata": {},
   "outputs": [],
   "source": [
    "b"
   ]
  },
  {
   "cell_type": "code",
   "execution_count": null,
   "id": "3bd2b7ea",
   "metadata": {},
   "outputs": [],
   "source": [
    "!pip install opencv-python"
   ]
  },
  {
   "cell_type": "code",
   "execution_count": null,
   "id": "29828c5c",
   "metadata": {},
   "outputs": [],
   "source": [
    "import cv2\n",
    "import numpy as np\n",
    "import argparse\n",
    "import os\n",
    "import matplotlib.pyplot as plt\n",
    "\n",
    "ap = argparse.ArgumentParser()\n",
    "ap.add_argument(\"-i\", \"--image\", required=True, help=\"C:/Users/tkrhk/lena.jpg\")\n",
    "args = vars(ap.parse_args())\n",
    "path = args['image']\n",
    "fname = os.path.splitext(path)[0]\n",
    "\n",
    "# 입력 받은 이미지를 불러옵니다.\n",
    "src = cv2.imread(path, cv2.IMREAD_GRAYSCALE)\n",
    "# 불러온 이미지에 histogram equalization을 적용합니다.\n",
    "dst = cv2.equalizeHist(src)\n",
    "srcHist = cv2.calcHist(images = [src],\n",
    "                       channels = [0],\n",
    "                       mask = None,\n",
    "                       histSize = [256],\n",
    "                       ranges = [0, 256])\n",
    "\n",
    "dstHist = cv2.calcHist(images = [dst],\n",
    "                       channels = [0],\n",
    "                       mask = None,\n",
    "                       histSize = [256],\n",
    "                       ranges = [0, 256])\n",
    "\n",
    "cv2.imshow('src', src)\n",
    "cv2.imshow('dst', dst)\n",
    "plt.title('Grayscale histogram of {} image'.format(fname), fontSize = 16)\n",
    "plt.plot(srcHist, color = 'b', label = 'src hist')\n",
    "plt.plot(dstHist, color = 'r', label = 'dst hist')\n",
    "plt.legend(loc='best')\n",
    "plt.show()\n",
    "\n",
    "\n",
    "cv2.waitKey()\n",
    "cv2.destroyAllWindows()"
   ]
  },
  {
   "cell_type": "code",
   "execution_count": null,
   "id": "30230b25",
   "metadata": {},
   "outputs": [],
   "source": [
    "import cv2\n",
    "import numpy as np\n",
    "import argparse\n",
    "import os\n",
    "import matplotlib.pyplot as plt\n",
    "\n",
    "# ap = argparse.ArgumentParser()\n",
    "# ap.add_argument(\"-i\", \"--image\", required=True, help=\"Image path to the directory\")\n",
    "# args = vars(ap.parse_args())\n",
    "# path = args['image']\n",
    "\n",
    "path = \"C:/Users/tkrhk/lena.jpg\"\n",
    "\n",
    "# 입력 받은 이미지를 불러옵니다.\n",
    "src = cv2.imread(path)\n",
    "\n",
    "# hsv 컬러 형태로 변형합니다.\n",
    "hsv = cv2.cvtColor(src, cv2.COLOR_BGR2HSV)\n",
    "# h, s, v로 컬러 영상을 분리 합니다. \n",
    "h, s, v = cv2.split(hsv)\n",
    "# v값을 히스토그램 평활화를 합니다.\n",
    "equalizedV = cv2.equalizeHist(v)\n",
    "# h,s,equalizedV를 합쳐서 새로운 hsv 이미지를 만듭니다.\n",
    "hsv2 = cv2.merge([h,s,equalizedV])\n",
    "# 마지막으로 hsv2를 다시 BGR 형태로 변경합니다.\n",
    "hsvDst = cv2.cvtColor(hsv2, cv2.COLOR_HSV2BGR)\n",
    "\n",
    "# YCrCb 컬러 형태로 변환합니다.\n",
    "yCrCb = cv2.cvtColor(src, cv2.COLOR_BGR2YCrCb)\n",
    "# y, Cr, Cb로 컬러 영상을 분리 합니다.\n",
    "y, Cr, Cb = cv2.split(yCrCb)\n",
    "# y값을 히스토그램 평활화를 합니다.\n",
    "equalizedY = cv2.equalizeHist(y)\n",
    "# equalizedY, Cr, Cb를 합쳐서 새로운 yCrCb 이미지를 만듭니다.\n",
    "yCrCb2 = cv2.merge([equalizedY, Cr, Cb])\n",
    "# 마지막으로 yCrCb2를 다시 BGR 형태로 변경합니다.\n",
    "yCrCbDst = cv2.cvtColor(yCrCb2, cv2.COLOR_YCrCb2BGR)\n",
    "\n",
    "# src, hsv, YCrCb 각각을 출력합니다.\n",
    "cv2.imshow('src', src)\n",
    "cv2.imshow('hsv dst', hsvDst)\n",
    "cv2.imshow('YCrCb dst', yCrCbDst)\n",
    "cv2.waitKey()\n",
    "cv2.destroyAllWindows()"
   ]
  },
  {
   "cell_type": "code",
   "execution_count": null,
   "id": "82e2ea33",
   "metadata": {},
   "outputs": [],
   "source": [
    "import pandas as pd\n",
    "\n",
    "df = pd.read_csv('titanic.csv')\n",
    "df"
   ]
  },
  {
   "cell_type": "code",
   "execution_count": null,
   "id": "4ed61891",
   "metadata": {},
   "outputs": [],
   "source": []
  },
  {
   "cell_type": "code",
   "execution_count": null,
   "id": "1f1ac8d2",
   "metadata": {},
   "outputs": [],
   "source": []
  }
 ],
 "metadata": {
  "kernelspec": {
   "display_name": "Python 3",
   "language": "python",
   "name": "python3"
  },
  "language_info": {
   "codemirror_mode": {
    "name": "ipython",
    "version": 3
   },
   "file_extension": ".py",
   "mimetype": "text/x-python",
   "name": "python",
   "nbconvert_exporter": "python",
   "pygments_lexer": "ipython3",
   "version": "3.8.8"
  }
 },
 "nbformat": 4,
 "nbformat_minor": 5
}
