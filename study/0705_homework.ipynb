{
 "cells": [
  {
   "cell_type": "code",
   "execution_count": null,
   "id": "68d8de88",
   "metadata": {},
   "outputs": [],
   "source": [
    "import cv2\n",
    "import numpy as np\n",
    "import argparse\n",
    "import os\n",
    "import matplotlib.pyplot as plt\n",
    "\n",
    "# ap = argparse.ArgumentParser()\n",
    "# ap.add_argument(\"-i\", \"--image\", required=True, help=\"Image path to the directory\")\n",
    "# args = vars(ap.parse_args())\n",
    "# path = args['image']\n",
    "\n",
    "path = \"C:/Users/tkrhk/lena.jpg\"\n",
    "\n",
    "# 입력 받은 이미지를 불러옵니다.\n",
    "src = cv2.imread(path)\n",
    "\n",
    "# hsv 컬러 형태로 변형합니다.\n",
    "hsv = cv2.cvtColor(src, cv2.COLOR_BGR2HSV)\n",
    "# h, s, v로 컬러 영상을 분리 합니다. \n",
    "h, s, v = cv2.split(hsv)\n",
    "# v값을 히스토그램 평활화를 합니다.\n",
    "equalizedV = cv2.equalizeHist(v)\n",
    "# h,s,equalizedV를 합쳐서 새로운 hsv 이미지를 만듭니다.\n",
    "hsv2 = cv2.merge([h,s,equalizedV])\n",
    "# 마지막으로 hsv2를 다시 BGR 형태로 변경합니다.\n",
    "hsvDst = cv2.cvtColor(hsv2, cv2.COLOR_HSV2BGR)\n",
    "\n",
    "# YCrCb 컬러 형태로 변환합니다.\n",
    "yCrCb = cv2.cvtColor(src, cv2.COLOR_BGR2YCrCb)\n",
    "# y, Cr, Cb로 컬러 영상을 분리 합니다.\n",
    "y, Cr, Cb = cv2.split(yCrCb)\n",
    "# y값을 히스토그램 평활화를 합니다.\n",
    "equalizedY = cv2.equalizeHist(y)\n",
    "# equalizedY, Cr, Cb를 합쳐서 새로운 yCrCb 이미지를 만듭니다.\n",
    "yCrCb2 = cv2.merge([equalizedY, Cr, Cb])\n",
    "# 마지막으로 yCrCb2를 다시 BGR 형태로 변경합니다.\n",
    "yCrCbDst = cv2.cvtColor(yCrCb2, cv2.COLOR_YCrCb2BGR)\n",
    "\n",
    "# src, hsv, YCrCb 각각을 출력합니다.\n",
    "cv2.imshow('src', src)\n",
    "cv2.imshow('hsv dst', hsvDst)\n",
    "cv2.imshow('YCrCb dst', yCrCbDst)\n",
    "cv2.waitKey()\n",
    "cv2.destroyAllWindows()"
   ]
  },
  {
   "cell_type": "code",
   "execution_count": null,
   "id": "c992387f",
   "metadata": {},
   "outputs": [],
   "source": []
  }
 ],
 "metadata": {
  "kernelspec": {
   "display_name": "Python 3",
   "language": "python",
   "name": "python3"
  },
  "language_info": {
   "codemirror_mode": {
    "name": "ipython",
    "version": 3
   },
   "file_extension": ".py",
   "mimetype": "text/x-python",
   "name": "python",
   "nbconvert_exporter": "python",
   "pygments_lexer": "ipython3",
   "version": "3.8.8"
  }
 },
 "nbformat": 4,
 "nbformat_minor": 5
}
