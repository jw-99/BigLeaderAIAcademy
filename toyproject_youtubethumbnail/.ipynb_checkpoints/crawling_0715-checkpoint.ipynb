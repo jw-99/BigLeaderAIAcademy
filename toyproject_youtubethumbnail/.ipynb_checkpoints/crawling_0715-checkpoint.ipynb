{
 "cells": [
  {
   "cell_type": "code",
   "execution_count": 23,
   "id": "6ecf98ba",
   "metadata": {},
   "outputs": [
    {
     "name": "stdout",
     "output_type": "stream",
     "text": [
      "================================================================================\n",
      "\n",
      "\n",
      "유튜브 크롤링\n",
      "\n",
      "\n",
      "================================================================================\n",
      "\n",
      "\n",
      "{1: '음악', 2: '스포츠', 3: '게임', 4: '영화', 5: '요리', 6: '몰카', 7: '먹방'}\n",
      "\n",
      "1.음악   2.스포츠 3.게임   4.영화\n",
      "5.요리   6.몰카   7.먹방\n",
      "1. 위 카테고리 중 검색할 카테고리의 번호를 선택하세요: 4\n",
      "\n",
      "2. 몇 건을 가져오겠습니까?: 50\n",
      "3. 파일을 저장할 폴더명만 쓰세요.(엔터 입력시 C:/data/에 저장됨): \n",
      "    요청 건수가 많아서 시간이 약간 소요되오니 잠시만 기다려 주세요~~\n"
     ]
    }
   ],
   "source": [
    "from bs4 import BeautifulSoup\n",
    "from selenium import webdriver\n",
    "import time\n",
    "import math\n",
    "import os\n",
    "import random\n",
    "\n",
    "\n",
    "print(\"=\"*80)\n",
    "print(\"\\n\")\n",
    "print(\"유튜브 크롤링\")\n",
    "print(\"\\n\")\n",
    "print(\"=\"*80)\n",
    "print(\"\\n\")\n",
    "\n",
    "ctg_dict = {1:'음악', 2:'스포츠', 3:'게임', 4:'영화', 5:'요리', 6:'몰카',7:'먹방'}\n",
    "query_txt = \"유튜브\"\n",
    "query_url = \"https://www.youtube.com/\"\n",
    "\n",
    "print(ctg_dict)\n",
    "ctg = int(input('''\n",
    "1.음악   2.스포츠 3.게임   4.영화\n",
    "5.요리   6.몰카   7.먹방\n",
    "1. 위 카테고리 중 검색할 카테고리의 번호를 선택하세요: '''))\n",
    "real_ctg = ctg_dict[ctg]\n",
    "\n",
    "count = int(input('''2. 몇 건을 가져오겠습니까?: '''))\n",
    "f_dir = input('3. 파일을 저장할 폴더명만 쓰세요.(엔터 입력시 C:/data/에 저장됨): ')\n",
    "if f_dir == '':\n",
    "    f_dir = 'C:/data/'\n",
    "\n",
    "if count > 30 :\n",
    "  print(\"    요청 건수가 많아서 시간이 약간 소요되오니 잠시만 기다려 주세요~~\")\n",
    "else :\n",
    "  print(\"    요청하신 데이터를 수집하고 있으니 잠시만 기다려 주세요~~\")\n",
    "\n",
    "# 저장될 파일위치와 이름을 지정합니다\n",
    "now = time.localtime()\n",
    "s = '%04d-%02d-%02d-%02d-%02d-%02d' % (now.tm_year, now.tm_mon, now.tm_mday, now.tm_hour, now.tm_min, now.tm_sec)\n",
    "\n",
    "os.makedirs(f_dir+s+'-'+query_txt+'-'+real_ctg)\n",
    "os.chdir(f_dir+s+'-'+query_txt+'-'+real_ctg)\n",
    "\n",
    "ff_dir=f_dir+s+'-'+query_txt+'-'+real_ctg\n",
    "ff_name=f_dir+s+'-'+query_txt+'-'+real_ctg+'\\\\'+s+'-'+query_txt+'-'+real_ctg+'.txt'\n",
    "fc_name=f_dir+s+'-'+query_txt+'-'+real_ctg+'\\\\'+s+'-'+query_txt+'-'+real_ctg+'.csv'\n",
    "fx_name=f_dir+s+'-'+query_txt+'-'+real_ctg+'\\\\'+s+'-'+query_txt+'-'+real_ctg+'.xls'\n",
    "\n",
    "img_dir = ff_dir+\"\\\\images\"\n",
    "os.makedirs(img_dir)\n",
    "os.chdir(img_dir)\n",
    "\n",
    "s_time = time.time( )"
   ]
  },
  {
   "cell_type": "code",
   "execution_count": null,
   "id": "e521546e",
   "metadata": {},
   "outputs": [],
   "source": [
    "import chromedriver_autoinstaller\n",
    "chromedriver_autoinstaller.install()\n",
    "driver= webdriver.Chrome()\n",
    "\n",
    "query_url='https://www.youtube.com/'\n",
    "driver.get(query_url)\n",
    "time.sleep(3)\n",
    "\n",
    "time.sleep(5)\n",
    "element = driver.find_element_by_name(\"search_query\")\n",
    "element.send_keys(real_ctg)\n",
    "element.submit()\n",
    "time.sleep(2)\n",
    "\n",
    "# 자동 스크롤다운 함수\n",
    "def scroll_down(driver):\n",
    "  driver.execute_script(\"window.scrollTo(0,document.body.scrollHeight);\")\n",
    "  time.sleep(5)\n",
    "    \n",
    "a = 1\n",
    "while (a <= count):\n",
    "    scroll_down(driver) \n",
    "\n",
    "    a += 1\n",
    "    print('요청하신 데이터를 수집중이니 잠시만 더 기다려 주세요~^^')\n",
    "    \n",
    "    if a == count :\n",
    "        break"
   ]
  },
  {
   "cell_type": "code",
   "execution_count": 28,
   "id": "f90addba",
   "metadata": {},
   "outputs": [
    {
     "name": "stdout",
     "output_type": "stream",
     "text": [
      "\n",
      "1. 카테고리 추가 2. 카테고리 삭제 3. 취소\n",
      "번호 선택: 2\n"
     ]
    }
   ],
   "source": [
    "# 카테고리 추가 및 삭제\n",
    "def ctg_dict_edit():\n",
    "    k = input('''\n",
    "    1. 카테고리 추가 2. 카테고리 삭제 3. 취소\n",
    "    번호 선택: ''')\n",
    "    if k == 1:\n",
    "        num_ctg, n_ctg = input().split(\" \")\n",
    "        ctg_dict[num_ctg] = n_ctg\n",
    "        print(\"추가되었습니다\")\n",
    "    elif k == 2:\n",
    "        print(ctg_dict)\n",
    "        print(\"삭제할 카테고리의 번호를 입력하세요.\")\n",
    "        del_ctg = int(input())\n",
    "        del dict[del_ctg]\n",
    "    elif k ==3:\n",
    "        print(\"취소\")\n",
    "    else:\n",
    "        print(\"\")"
   ]
  },
  {
   "cell_type": "code",
   "execution_count": 29,
   "id": "5f647e07",
   "metadata": {},
   "outputs": [
    {
     "name": "stdout",
     "output_type": "stream",
     "text": [
      "\n"
     ]
    }
   ],
   "source": [
    "ctg_dict_edit(k)"
   ]
  },
  {
   "cell_type": "code",
   "execution_count": 10,
   "id": "855ba663",
   "metadata": {},
   "outputs": [
    {
     "data": {
      "text/plain": [
       "'스포츠'"
      ]
     },
     "execution_count": 10,
     "metadata": {},
     "output_type": "execute_result"
    }
   ],
   "source": [
    "ctg_dict = {1:'음악', 2:'스포츠', 3:'게임', 4:'영화', 5:'요리', 6:'몰카',7:'먹방'}\n",
    "\n",
    "real_ctg = ctg_dict[2]\n",
    "real_ctg"
   ]
  },
  {
   "cell_type": "code",
   "execution_count": null,
   "id": "707a561f",
   "metadata": {},
   "outputs": [],
   "source": []
  }
 ],
 "metadata": {
  "kernelspec": {
   "display_name": "Python 3",
   "language": "python",
   "name": "python3"
  },
  "language_info": {
   "codemirror_mode": {
    "name": "ipython",
    "version": 3
   },
   "file_extension": ".py",
   "mimetype": "text/x-python",
   "name": "python",
   "nbconvert_exporter": "python",
   "pygments_lexer": "ipython3",
   "version": "3.8.8"
  }
 },
 "nbformat": 4,
 "nbformat_minor": 5
}
