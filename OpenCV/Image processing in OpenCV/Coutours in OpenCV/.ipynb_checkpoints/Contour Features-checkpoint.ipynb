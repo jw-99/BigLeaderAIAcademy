{
 "cells": [
  {
   "cell_type": "markdown",
   "id": "d1175b75",
   "metadata": {},
   "source": [
    "## 1. Moments"
   ]
  },
  {
   "cell_type": "code",
   "execution_count": null,
   "id": "70845872",
   "metadata": {},
   "outputs": [],
   "source": [
    "import numpy as np\n",
    "import cv2 as cv\n",
    "\n",
    "img = cv.imread('star.jpg', 0)\n",
    "ret,thresh = cv.threshold(img,127,255,0)\n",
    "contours,hierarchy = cv.findContours(thresh,1,2)\n",
    "\n",
    "cnt = contours[0]\n",
    "M = cv.moments(cnt)\n",
    "print(M)"
   ]
  },
  {
   "cell_type": "code",
   "execution_count": null,
   "id": "098a19f8",
   "metadata": {},
   "outputs": [],
   "source": []
  },
  {
   "cell_type": "code",
   "execution_count": null,
   "id": "7c5a59d0",
   "metadata": {},
   "outputs": [],
   "source": [
    "cx = int(M['m10']/M['m00'])\n",
    "cy = int(M['m01']/M['m00'])"
   ]
  },
  {
   "cell_type": "markdown",
   "id": "23b7e188",
   "metadata": {},
   "source": [
    "## 2. Contour Area"
   ]
  },
  {
   "cell_type": "code",
   "execution_count": null,
   "id": "07eff2ec",
   "metadata": {},
   "outputs": [],
   "source": [
    "area = cv.contourArea(cnt)"
   ]
  },
  {
   "cell_type": "markdown",
   "id": "9d3335d2",
   "metadata": {},
   "source": [
    "## 3. Contour Perimeter "
   ]
  },
  {
   "cell_type": "code",
   "execution_count": null,
   "id": "1c776ec3",
   "metadata": {},
   "outputs": [],
   "source": [
    "perimeter = cv.arcLength(cnt,True)"
   ]
  },
  {
   "cell_type": "markdown",
   "id": "c5f17c3f",
   "metadata": {},
   "source": [
    "## 4. Contour Approximation"
   ]
  },
  {
   "cell_type": "code",
   "execution_count": null,
   "id": "6658ce2b",
   "metadata": {},
   "outputs": [],
   "source": [
    "epsilon = 0.1*cv.arcLength(cnt,True)\n",
    "approx = cv.approxPolyDP(cnt,epsilon,True)"
   ]
  },
  {
   "cell_type": "markdown",
   "id": "ec23d581",
   "metadata": {},
   "source": [
    "## 5. Convex Hull"
   ]
  },
  {
   "cell_type": "code",
   "execution_count": 5,
   "id": "9ed8455b",
   "metadata": {
    "scrolled": true
   },
   "outputs": [
    {
     "ename": "SyntaxError",
     "evalue": "invalid syntax (<ipython-input-5-ab035dcd451d>, line 1)",
     "output_type": "error",
     "traceback": [
      "\u001b[1;36m  File \u001b[1;32m\"<ipython-input-5-ab035dcd451d>\"\u001b[1;36m, line \u001b[1;32m1\u001b[0m\n\u001b[1;33m    hull = cv.convexHull(points, hull, clockwise[, returnPoints])\u001b[0m\n\u001b[1;37m                                                 ^\u001b[0m\n\u001b[1;31mSyntaxError\u001b[0m\u001b[1;31m:\u001b[0m invalid syntax\n"
     ]
    }
   ],
   "source": [
    "hull = cv.convexHull(points[, hull[, clockwise[, returnPoints]]"
   ]
  },
  {
   "cell_type": "code",
   "execution_count": 6,
   "id": "aeca3e61",
   "metadata": {},
   "outputs": [],
   "source": [
    "hull = cv.convexHull(cnt)"
   ]
  },
  {
   "cell_type": "markdown",
   "id": "b2df8e07",
   "metadata": {},
   "source": [
    "## 6. Checking Convexity"
   ]
  },
  {
   "cell_type": "code",
   "execution_count": null,
   "id": "35822a53",
   "metadata": {},
   "outputs": [],
   "source": [
    "k = cv.isContourConvex(cnt)"
   ]
  },
  {
   "cell_type": "markdown",
   "id": "18e56b5b",
   "metadata": {},
   "source": [
    "## 7. Bounding Rectangle"
   ]
  },
  {
   "cell_type": "code",
   "execution_count": null,
   "id": "1524f26e",
   "metadata": {},
   "outputs": [],
   "source": [
    "x, y, w, h = cv.boundingRect(cnt)\n",
    "cv.rectangle(img, (x,y), (x+w, y+h), (0,255,0),2)"
   ]
  },
  {
   "cell_type": "code",
   "execution_count": null,
   "id": "3737af33",
   "metadata": {},
   "outputs": [],
   "source": [
    "rect = cv.minAreaRect(cnt)\n",
    "box = cv.boxpointr(rect)\n",
    "box = np.int0(box)\n",
    "cv.drawContours(img, [box], 0, (0,0,255),2)"
   ]
  },
  {
   "cell_type": "markdown",
   "id": "f921be9c",
   "metadata": {},
   "source": [
    "## 8. Minimum Enclosing circle"
   ]
  },
  {
   "cell_type": "code",
   "execution_count": null,
   "id": "94581422",
   "metadata": {},
   "outputs": [],
   "source": [
    "(x, y), radius = cv.minEnclosingCilcle(cnt)\n",
    "center = (int(X), int(y))\n",
    "radius = ind(raidus)\n",
    "cv.circle(img, center, radius, (0, 255, 0), 2)"
   ]
  },
  {
   "cell_type": "markdown",
   "id": "671fe57a",
   "metadata": {},
   "source": [
    "## 9. Fitting an Ellipse"
   ]
  },
  {
   "cell_type": "code",
   "execution_count": null,
   "id": "34f81b53",
   "metadata": {},
   "outputs": [],
   "source": [
    "ellipse = cv.fitEllipse(cnt)\n",
    "cv.ellipse(img, ellipse, (0,255,0),2)"
   ]
  },
  {
   "cell_type": "markdown",
   "id": "350461e0",
   "metadata": {},
   "source": [
    "## 10. Fitting a Line"
   ]
  },
  {
   "cell_type": "code",
   "execution_count": null,
   "id": "f0a19d60",
   "metadata": {},
   "outputs": [],
   "source": [
    "rows,cols = img.shape[:2]\n",
    "[vx,vy,x,y] = cv.fitLine(cnt, cv.DIST_L2, 0,0,0.01,0.01)\n",
    "lefty = int((-x*vy/vx) + y)\n",
    "righty = int(((cols-1)*vy/vx)+y)\n",
    "cv.line(img,(cols-1righty),(0,lefty),(0,255,0),2)"
   ]
  },
  {
   "cell_type": "code",
   "execution_count": null,
   "id": "6eb37ae3",
   "metadata": {},
   "outputs": [],
   "source": []
  }
 ],
 "metadata": {
  "kernelspec": {
   "display_name": "Python 3",
   "language": "python",
   "name": "python3"
  },
  "language_info": {
   "codemirror_mode": {
    "name": "ipython",
    "version": 3
   },
   "file_extension": ".py",
   "mimetype": "text/x-python",
   "name": "python",
   "nbconvert_exporter": "python",
   "pygments_lexer": "ipython3",
   "version": "3.8.8"
  }
 },
 "nbformat": 4,
 "nbformat_minor": 5
}
