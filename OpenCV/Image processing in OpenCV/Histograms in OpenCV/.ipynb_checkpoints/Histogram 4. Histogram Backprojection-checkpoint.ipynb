{
 "cells": [
  {
   "cell_type": "markdown",
   "id": "ce4ca1a0",
   "metadata": {},
   "source": [
    "## Algorithm in Numpy"
   ]
  },
  {
   "cell_type": "code",
   "execution_count": null,
   "id": "a1f8a9ae",
   "metadata": {},
   "outputs": [],
   "source": [
    "import numpy as np\n",
    "import cv2 as cvfrom matplotlib import pyplot as plt\n",
    "\n",
    "roi = cv.imread('rose_red.png')\n",
    "hsv = cv.cvtColor(roi, cv.COLOR_BGR2HSV)\n",
    "\n",
    "target = cv.imread('rose.png')\n",
    "hsvt = cv.cvtColor(target, cv.COLOR_BGR2HSV)\n",
    "\n",
    "M = cv.calcHist([hsv], [0,1], None, [180, 256], [0, 180, 0, 256])\n",
    "I = cv.calcHist([hsvt], [0,1], None, [180, 256], [0, 180, 0, 256])"
   ]
  },
  {
   "cell_type": "code",
   "execution_count": null,
   "id": "5155d27f",
   "metadata": {},
   "outputs": [],
   "source": [
    "h,s,v = cv.split(hsvt)\n",
    "B = R[h.ravel(),s.ravel()]\n",
    "B = np.minimum(B,1)\n",
    "B = B.reshape(hsvt.shape[:2])"
   ]
  },
  {
   "cell_type": "code",
   "execution_count": null,
   "id": "1165f455",
   "metadata": {},
   "outputs": [],
   "source": [
    "disc = cv.getStructuringElement(cv.MORPH_ELLIPSE, (5,5))\n",
    "cv.filter2D(B,-1,disc,B)\n",
    "B = np.uint8(B)\n",
    "cv.normalize(B,B,0,255,cv.NORM_MINMAX)"
   ]
  },
  {
   "cell_type": "code",
   "execution_count": null,
   "id": "3e5fc704",
   "metadata": {},
   "outputs": [],
   "source": [
    "ret, thresh = cv.threshold(B,50,255,0)"
   ]
  },
  {
   "cell_type": "code",
   "execution_count": null,
   "id": "77001d32",
   "metadata": {},
   "outputs": [],
   "source": [
    "thresh = cv.merge((thresh, thresh, thresh))\n",
    "res = cv.bitwise_and(target, thresh)\n",
    "\n",
    "res = np.vstack((target, thresh, res))\n",
    "cv.imwrite('res.jpg', res)"
   ]
  },
  {
   "cell_type": "code",
   "execution_count": null,
   "id": "9aba36ef",
   "metadata": {},
   "outputs": [],
   "source": []
  }
 ],
 "metadata": {
  "kernelspec": {
   "display_name": "Python 3",
   "language": "python",
   "name": "python3"
  },
  "language_info": {
   "codemirror_mode": {
    "name": "ipython",
    "version": 3
   },
   "file_extension": ".py",
   "mimetype": "text/x-python",
   "name": "python",
   "nbconvert_exporter": "python",
   "pygments_lexer": "ipython3",
   "version": "3.8.8"
  }
 },
 "nbformat": 4,
 "nbformat_minor": 5
}
