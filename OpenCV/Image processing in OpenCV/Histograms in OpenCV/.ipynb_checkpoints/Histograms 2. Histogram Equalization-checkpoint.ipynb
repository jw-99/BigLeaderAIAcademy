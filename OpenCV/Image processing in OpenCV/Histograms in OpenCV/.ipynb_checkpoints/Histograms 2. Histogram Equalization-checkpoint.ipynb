{
 "cells": [
  {
   "cell_type": "code",
   "execution_count": 2,
   "id": "3f049ab5",
   "metadata": {},
   "outputs": [
    {
     "data": {
      "image/png": "[encoded data removed]",
      "text/plain": [
       "<Figure size 432x288 with 1 Axes>"
      ]
     },
     "metadata": {
      "needs_background": "light"
     },
     "output_type": "display_data"
    }
   ],
   "source": [
    "import numpy as np\n",
    "import cv2 as cv\n",
    "from matplotlib import pyplot as plt\n",
    "\n",
    "img = cv.imread('wiki.jpg', 0)\n",
    "\n",
    "hist, bins = np.histogram(img.flatten(), 256, [0, 256])\n",
    "\n",
    "cdf = hist.cumsum()\n",
    "cdf_normalized = cdf * float(hist.max()) / cdf.max()\n",
    "\n",
    "plt.plot(cdf_normalized, color = 'b')\n",
    "plt.hist(img.flatten(), 256, [0, 256], color = 'r')\n",
    "plt.xlim([0, 256])\n",
    "plt.legend(('cdf', 'histogram'), loc = 'upper left')\n",
    "plt.show()"
   ]
  },
  {
   "cell_type": "code",
   "execution_count": 5,
   "id": "a5b4835b",
   "metadata": {},
   "outputs": [],
   "source": [
    "cdf_m = np.ma.masked_equal(cdf, 0)\n",
    "cdf_m = (cdf_m - cdf_m.min())*255/(cdf_m.max() - cdf_m.min())\n",
    "cdf = np.ma.filled(cdf_m, 0).astype('uint8')"
   ]
  },
  {
   "cell_type": "code",
   "execution_count": 16,
   "id": "28b99bab",
   "metadata": {},
   "outputs": [
    {
     "data": {
      "text/plain": [
       "(array([[ 35.,  46.,  33., ...,  21.,  27.,  13.],\n",
       "        [ 37.,  46.,  36., ...,  25.,  31.,  10.],\n",
       "        [ 48.,  34.,  41., ...,  20.,  35.,   6.],\n",
       "        ...,\n",
       "        [ 21.,  35.,  30., ...,   6.,  20.,  33.],\n",
       "        [  4.,   4.,   3., ...,  32.,  24.,  51.],\n",
       "        [  0.,   0.,   0., ...,   0.,  10., 246.]]),\n",
       " array([  0. ,  25.5,  51. ,  76.5, 102. , 127.5, 153. , 178.5, 204. ,\n",
       "        229.5, 255. ]),\n",
       " <a list of 274 BarContainer objects>)"
      ]
     },
     "execution_count": 16,
     "metadata": {},
     "output_type": "execute_result"
    },
    {
     "data": {
      "image/png": "[encoded data removed]",
      "text/plain": [
       "<Figure size 432x288 with 1 Axes>"
      ]
     },
     "metadata": {
      "needs_background": "light"
     },
     "output_type": "display_data"
    }
   ],
   "source": [
    "plt.hist(equ)"
   ]
  },
  {
   "cell_type": "code",
   "execution_count": null,
   "id": "da1f7de8",
   "metadata": {},
   "outputs": [],
   "source": []
  },
  {
   "cell_type": "code",
   "execution_count": 8,
   "id": "4d8362ec",
   "metadata": {},
   "outputs": [
    {
     "data": {
      "text/plain": [
       "True"
      ]
     },
     "execution_count": 8,
     "metadata": {},
     "output_type": "execute_result"
    }
   ],
   "source": [
    "img = cv.imread('wiki.jpg', 0)\n",
    "equ = cv.equalizeHist(img)\n",
    "res = np.hstack((img,equ))\n",
    "cv.imwrite('res.png', res)"
   ]
  },
  {
   "cell_type": "code",
   "execution_count": null,
   "id": "3bf91b7d",
   "metadata": {},
   "outputs": [],
   "source": []
  }
 ],
 "metadata": {
  "kernelspec": {
   "display_name": "Python 3",
   "language": "python",
   "name": "python3"
  },
  "language_info": {
   "codemirror_mode": {
    "name": "ipython",
    "version": 3
   },
   "file_extension": ".py",
   "mimetype": "text/x-python",
   "name": "python",
   "nbconvert_exporter": "python",
   "pygments_lexer": "ipython3",
   "version": "3.8.8"
  }
 },
 "nbformat": 4,
 "nbformat_minor": 5
}
