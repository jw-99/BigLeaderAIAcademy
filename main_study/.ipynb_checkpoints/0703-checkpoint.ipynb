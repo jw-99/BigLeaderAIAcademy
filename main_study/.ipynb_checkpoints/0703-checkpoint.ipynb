{
 "cells": [
  {
   "cell_type": "code",
   "execution_count": 7,
   "id": "221924b0",
   "metadata": {},
   "outputs": [
    {
     "name": "stdout",
     "output_type": "stream",
     "text": [
      "py\n",
      "thon\n"
     ]
    },
    {
     "data": {
      "text/plain": [
       "'py\\nthon'"
      ]
     },
     "execution_count": 7,
     "metadata": {},
     "output_type": "execute_result"
    }
   ],
   "source": [
    "# #n은 pritn 내에서만 동작\n",
    "print('py\\nthon')\n",
    "'py\\nthon'"
   ]
  },
  {
   "cell_type": "code",
   "execution_count": 31,
   "id": "060bd35e",
   "metadata": {},
   "outputs": [
    {
     "name": "stdout",
     "output_type": "stream",
     "text": [
      "2\n",
      "3\n",
      "2\n",
      "2\n",
      "5\n"
     ]
    },
    {
     "ename": "TypeError",
     "evalue": "object of type 'int' has no len()",
     "output_type": "error",
     "traceback": [
      "\u001b[1;31m---------------------------------------------------------------------------\u001b[0m",
      "\u001b[1;31mTypeError\u001b[0m                                 Traceback (most recent call last)",
      "\u001b[1;32m<ipython-input-31-f7a36a80f2c7>\u001b[0m in \u001b[0;36m<module>\u001b[1;34m\u001b[0m\n\u001b[0;32m     10\u001b[0m \u001b[1;33m\u001b[0m\u001b[0m\n\u001b[0;32m     11\u001b[0m \u001b[1;32mfor\u001b[0m \u001b[0mi\u001b[0m \u001b[1;32min\u001b[0m \u001b[1;33m[\u001b[0m\u001b[0ma\u001b[0m\u001b[1;33m,\u001b[0m\u001b[0mb\u001b[0m\u001b[1;33m,\u001b[0m\u001b[0mc\u001b[0m\u001b[1;33m,\u001b[0m\u001b[0md\u001b[0m\u001b[1;33m,\u001b[0m\u001b[0me\u001b[0m\u001b[1;33m,\u001b[0m\u001b[0mf\u001b[0m\u001b[1;33m,\u001b[0m\u001b[0mg\u001b[0m\u001b[1;33m]\u001b[0m\u001b[1;33m:\u001b[0m\u001b[1;33m\u001b[0m\u001b[1;33m\u001b[0m\u001b[0m\n\u001b[1;32m---> 12\u001b[1;33m     \u001b[0mprint\u001b[0m\u001b[1;33m(\u001b[0m\u001b[0mlen\u001b[0m\u001b[1;33m(\u001b[0m\u001b[0mi\u001b[0m\u001b[1;33m)\u001b[0m\u001b[1;33m)\u001b[0m\u001b[1;33m\u001b[0m\u001b[1;33m\u001b[0m\u001b[0m\n\u001b[0m",
      "\u001b[1;31mTypeError\u001b[0m: object of type 'int' has no len()"
     ]
    }
   ],
   "source": [
    "a = [1,2]\n",
    "b = (1,2,3)\n",
    "c = {1:2, 3:4}\n",
    "d = set(a)\n",
    "e = '12345'\n",
    "f = 123456\n",
    "g = 123456.7\n",
    "\n",
    "# int나 float 자료형은 len함수 'X'\n",
    "\n",
    "for i in [a,b,c,d,e,f,g]:\n",
    "    print(len(i))"
   ]
  },
  {
   "cell_type": "code",
   "execution_count": 37,
   "id": "e70b5f0b",
   "metadata": {},
   "outputs": [],
   "source": [
    "# 딕셔너리 자로형은 인덱싱 'X' key나 value로 접근\n",
    "# 집합 자료형도 인덱싱 'X'\n",
    "# 문자열은 인덱싱 'O', int나 float은 'X'"
   ]
  },
  {
   "cell_type": "code",
   "execution_count": 43,
   "id": "36d57ddd",
   "metadata": {},
   "outputs": [
    {
     "name": "stdout",
     "output_type": "stream",
     "text": [
      "name is j age is 10\n"
     ]
    }
   ],
   "source": [
    "name = 'j'\n",
    "age = 10\n",
    "\n",
    "print('name is {} age is {}'.format(name, age))"
   ]
  },
  {
   "cell_type": "code",
   "execution_count": 44,
   "id": "acf88bc5",
   "metadata": {},
   "outputs": [
    {
     "name": "stdout",
     "output_type": "stream",
     "text": [
      "name is j age is 10\n"
     ]
    }
   ],
   "source": [
    "print(f'name is {name} age is {age}')"
   ]
  },
  {
   "cell_type": "code",
   "execution_count": 55,
   "id": "d8d265a4",
   "metadata": {},
   "outputs": [
    {
     "ename": "ValueError",
     "evalue": "substring not found",
     "output_type": "error",
     "traceback": [
      "\u001b[1;31m---------------------------------------------------------------------------\u001b[0m",
      "\u001b[1;31mValueError\u001b[0m                                Traceback (most recent call last)",
      "\u001b[1;32m<ipython-input-55-651bd38ce52c>\u001b[0m in \u001b[0;36m<module>\u001b[1;34m\u001b[0m\n\u001b[0;32m      4\u001b[0m \u001b[1;31m# but find는 존재하지 않는 문자 입력시 -1을 반환 index는 에러\u001b[0m\u001b[1;33m\u001b[0m\u001b[1;33m\u001b[0m\u001b[1;33m\u001b[0m\u001b[0m\n\u001b[0;32m      5\u001b[0m \u001b[0mstr\u001b[0m\u001b[1;33m.\u001b[0m\u001b[0mfind\u001b[0m\u001b[1;33m(\u001b[0m\u001b[1;34m'1'\u001b[0m\u001b[1;33m)\u001b[0m\u001b[1;33m\u001b[0m\u001b[1;33m\u001b[0m\u001b[0m\n\u001b[1;32m----> 6\u001b[1;33m \u001b[0mstr\u001b[0m\u001b[1;33m.\u001b[0m\u001b[0mindex\u001b[0m\u001b[1;33m(\u001b[0m\u001b[1;34m'1'\u001b[0m\u001b[1;33m)\u001b[0m\u001b[1;33m\u001b[0m\u001b[1;33m\u001b[0m\u001b[0m\n\u001b[0m",
      "\u001b[1;31mValueError\u001b[0m: substring not found"
     ]
    }
   ],
   "source": [
    "str = 'python'\n",
    "\n",
    "# find와 index 함수는 입력 문자의 인덱스를 반환 \n",
    "# but find는 존재하지 않는 문자 입력시 -1을 반환 index는 에러\n",
    "str.find('1')\n",
    "str.index('1')"
   ]
  },
  {
   "cell_type": "code",
   "execution_count": 56,
   "id": "4a5eadf9",
   "metadata": {},
   "outputs": [],
   "source": [
    "str1 = 'python'\n",
    "str2 = 12345"
   ]
  },
  {
   "cell_type": "code",
   "execution_count": null,
   "id": "2c239198",
   "metadata": {},
   "outputs": [],
   "source": []
  }
 ],
 "metadata": {
  "kernelspec": {
   "display_name": "Python 3",
   "language": "python",
   "name": "python3"
  },
  "language_info": {
   "codemirror_mode": {
    "name": "ipython",
    "version": 3
   },
   "file_extension": ".py",
   "mimetype": "text/x-python",
   "name": "python",
   "nbconvert_exporter": "python",
   "pygments_lexer": "ipython3",
   "version": "3.8.8"
  }
 },
 "nbformat": 4,
 "nbformat_minor": 5
}
