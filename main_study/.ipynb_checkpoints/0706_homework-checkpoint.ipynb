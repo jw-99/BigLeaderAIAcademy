{
 "cells": [
  {
   "cell_type": "code",
   "execution_count": 2,
   "id": "3b2aba4d",
   "metadata": {},
   "outputs": [
    {
     "name": "stdout",
     "output_type": "stream",
     "text": [
      "y1 = 3.15727 * x1^2 + -2.44277 * x1+ 1.62874\n",
      "y2 = 3.07896 * x2^2 + -2.24365 * x2+ 1.31536\n"
     ]
    },
    {
     "data": {
      "image/png": "[encoded data removed]",
      "text/plain": [
       "<Figure size 432x288 with 1 Axes>"
      ]
     },
     "metadata": {
      "needs_background": "light"
     },
     "output_type": "display_data"
    }
   ],
   "source": [
    "from numpy import arange\n",
    "from scipy.optimize import curve_fit\n",
    "from matplotlib import pyplot\n",
    "import random\n",
    "\n",
    "# define the true objective function\n",
    "def objective(x, a, b, c):\n",
    "    return a * x**2 + b * x + c\n",
    "\n",
    "xy =[[-2.9,35.4],[-2.1,19.7],[-0.9,5.7],[1.1,2.1],[0.1,1.2],[1.9,8.7],[3.1,25.7],[4.0,41.5]]\n",
    "\n",
    "\n",
    "xy_1 = random.sample(xy, 6)\n",
    "x1= [xy_1[0][0],xy_1[1][0],xy_1[2][0],xy_1[3][0],xy_1[4][0],xy_1[5][0]]\n",
    "y1= [xy_1[0][1],xy_1[1][1],xy_1[2][1],xy_1[3][1],xy_1[4][1],xy_1[5][1]]\n",
    "\n",
    "# curve fit\n",
    "popt, _ = curve_fit(objective, x1, y1)\n",
    "# summarize the parameter values\n",
    "a, b, c = popt\n",
    "print('y1 = %.5f * x1^2 + %.5f * x1+ %.5f' % (a, b, c))\n",
    "\n",
    "# define a sequence of inputs between the smallest and largest known inputs\n",
    "x_line = arange(min(x1), max(x1), 1)\n",
    "\n",
    "# calculate the output for the range\n",
    "y_line = objective(x_line, a, b, c)\n",
    "\n",
    "# create a line plot for the mapping function\n",
    "\n",
    "\n",
    "xy_2 = random.sample(xy, 6)\n",
    "x2= [xy_2[0][0],xy_2[1][0],xy_2[2][0],xy_2[3][0],xy_2[4][0],xy_2[5][0]]\n",
    "y2= [xy_2[0][1],xy_2[1][1],xy_2[2][1],xy_2[3][1],xy_2[4][1],xy_2[5][1]]\n",
    "\n",
    "# curve fit\n",
    "popt, _ = curve_fit(objective, x2, y2)\n",
    "# summarize the parameter values\n",
    "a, b, c = popt\n",
    "print('y2 = %.5f * x2^2 + %.5f * x2+ %.5f' % (a, b, c))\n",
    "\n",
    "\n",
    "# define a sequence of inputs between the smallest and largest known inputs\n",
    "x_lin = arange(min(x2), max(x2), 1)\n",
    "\n",
    "# calculate the output for the range\n",
    "y_lin = objective(x_lin, a, b, c)\n",
    "\n",
    "# create a line plot for the mapping function\n",
    "pyplot.plot(x_line, y_line, '-', color='blue')\n",
    "pyplot.scatter(x_line,y_line)\n",
    "pyplot.plot(x_lin, y_lin, '-', color='red')\n",
    "pyplot.scatter(x_lin,y_lin)\n",
    "pyplot.axis([-4, 5, 0, 50])\n",
    "pyplot.show()"
   ]
  },
  {
   "cell_type": "code",
   "execution_count": null,
   "id": "6095f880",
   "metadata": {},
   "outputs": [],
   "source": []
  }
 ],
 "metadata": {
  "kernelspec": {
   "display_name": "Python 3",
   "language": "python",
   "name": "python3"
  },
  "language_info": {
   "codemirror_mode": {
    "name": "ipython",
    "version": 3
   },
   "file_extension": ".py",
   "mimetype": "text/x-python",
   "name": "python",
   "nbconvert_exporter": "python",
   "pygments_lexer": "ipython3",
   "version": "3.8.8"
  }
 },
 "nbformat": 4,
 "nbformat_minor": 5
}
