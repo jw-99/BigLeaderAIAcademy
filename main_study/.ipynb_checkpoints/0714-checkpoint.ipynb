{
 "cells": [
  {
   "cell_type": "markdown",
   "id": "0847b899",
   "metadata": {},
   "source": [
    "# 프로그래머스 신규 아이디 추천"
   ]
  },
  {
   "cell_type": "code",
   "execution_count": null,
   "id": "fb1a0049",
   "metadata": {},
   "outputs": [],
   "source": [
    "def solution(new_id):\n",
    "    new_id = new_id.lower()\n",
    "\n",
    "\n",
    "    for i in ['~','!','@','#','$','%','^','&','*','(',')','=','+','[',']','{','}',':','?',',','<','>','/']:\n",
    "        new_id = new_id.replace(i, \"\")\n",
    "\n",
    "\n",
    "    import re\n",
    "    new_id = new_id.replace('.', ' ')\n",
    "    new_id = re.sub(' +', ' ', new_id)\n",
    "    new_id = new_id.replace(' ', '.')\n",
    "\n",
    "    \n",
    "    if new_id == '.':\n",
    "        new_id = ''\n",
    "    \n",
    "    if new_id != '':\n",
    "        \n",
    "        if new_id[0] == '.':\n",
    "            new_id = new_id[1:]\n",
    "            if new_id == '':\n",
    "                new_id = 'a'\n",
    "        \n",
    "        if new_id[-1] == '.':\n",
    "            new_id = new_id[:-1]\n",
    "            if new_id == '':\n",
    "                new_id = 'a'\n",
    "\n",
    "    \n",
    "    if new_id == '':\n",
    "        new_id = 'a'\n",
    "\n",
    "    \n",
    "    if len(new_id) >= 15:\n",
    "        new_id = new_id[:15]\n",
    "        if new_id[-1] == '.':\n",
    "            new_id = new_id[:-1]\n",
    "    \n",
    "    if len(new_id) < 3:\n",
    "        while len(new_id) < 3:\n",
    "            new_id += new_id[-1]\n",
    "    \n",
    "    answer = new_id\n",
    "    \n",
    "    return answer"
   ]
  },
  {
   "cell_type": "markdown",
   "id": "608976f1",
   "metadata": {},
   "source": [
    "# 프로그래머스 주식 가격"
   ]
  },
  {
   "cell_type": "code",
   "execution_count": 490,
   "id": "d65c95a4",
   "metadata": {},
   "outputs": [],
   "source": [
    "def solution(prices):\n",
    "    answer = []\n",
    "    for i in range(len(prices)):\n",
    "        k = prices[i:]\n",
    "        p = prices[i+1:]\n",
    "        g = 0\n",
    "        print(k)\n",
    "        print(p)\n",
    "        for j in range(len(p)):\n",
    "            g += 1\n",
    "            if p[j] - k[0] < 0:\n",
    "                break\n",
    "        answer.append(g)\n",
    "    return answer"
   ]
  },
  {
   "cell_type": "code",
   "execution_count": null,
   "id": "fffbf368",
   "metadata": {},
   "outputs": [],
   "source": [
    "def solution(prices):\n",
    "    answer = []\n",
    "    for i in range(len(prices)):\n",
    "        prices[i][]- prices[i+1][0]"
   ]
  },
  {
   "cell_type": "code",
   "execution_count": 491,
   "id": "cdf21b4c",
   "metadata": {},
   "outputs": [],
   "source": [
    "prices = [1, 2, 3, 2, 3]"
   ]
  },
  {
   "cell_type": "code",
   "execution_count": 492,
   "id": "b1f27c68",
   "metadata": {},
   "outputs": [
    {
     "name": "stdout",
     "output_type": "stream",
     "text": [
      "[1, 2, 3, 2, 3]\n",
      "[2, 3, 2, 3]\n",
      "[2, 3, 2, 3]\n",
      "[3, 2, 3]\n",
      "[3, 2, 3]\n",
      "[2, 3]\n",
      "[2, 3]\n",
      "[3]\n",
      "[3]\n",
      "[]\n"
     ]
    },
    {
     "data": {
      "text/plain": [
       "[4, 3, 1, 1, 0]"
      ]
     },
     "execution_count": 492,
     "metadata": {},
     "output_type": "execute_result"
    }
   ],
   "source": [
    "solution(prices)"
   ]
  },
  {
   "cell_type": "code",
   "execution_count": 466,
   "id": "cd0fe799",
   "metadata": {},
   "outputs": [
    {
     "name": "stdout",
     "output_type": "stream",
     "text": [
      "4\n",
      "3\n",
      "1\n",
      "1\n",
      "0\n"
     ]
    }
   ],
   "source": [
    "answer = []\n",
    "for i in range(len(prices)):\n",
    "    k = prices[i:]\n",
    "    p = prices[i+1:]\n",
    "\n",
    "    g = 0\n",
    "    for j in range(len(p)):\n",
    "        g += 1\n",
    "        if p[j] - k[0] < 0:\n",
    "            break\n",
    "    print(g)"
   ]
  },
  {
   "cell_type": "code",
   "execution_count": 433,
   "id": "8ba2000d",
   "metadata": {},
   "outputs": [
    {
     "name": "stdout",
     "output_type": "stream",
     "text": [
      "[1, 2, 3, 2, 3]\n",
      "[2, 3, 2, 3]\n",
      "[2, 3, 2, 3]\n",
      "[3, 2, 3]\n",
      "[3, 2, 3]\n",
      "[2, 3]\n",
      "[2, 3]\n",
      "[3]\n",
      "[3]\n",
      "[]\n"
     ]
    }
   ],
   "source": [
    "for i in range(len(prices)):\n",
    "    k = prices[i:]\n",
    "    p = prices[i+1:]\n",
    "    print(k)\n",
    "    print(p)"
   ]
  },
  {
   "cell_type": "code",
   "execution_count": null,
   "id": "916151eb",
   "metadata": {},
   "outputs": [],
   "source": []
  }
 ],
 "metadata": {
  "kernelspec": {
   "display_name": "Python 3",
   "language": "python",
   "name": "python3"
  },
  "language_info": {
   "codemirror_mode": {
    "name": "ipython",
    "version": 3
   },
   "file_extension": ".py",
   "mimetype": "text/x-python",
   "name": "python",
   "nbconvert_exporter": "python",
   "pygments_lexer": "ipython3",
   "version": "3.8.8"
  }
 },
 "nbformat": 4,
 "nbformat_minor": 5
}
