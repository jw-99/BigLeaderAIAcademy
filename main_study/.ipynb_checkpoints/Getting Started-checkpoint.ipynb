{
 "cells": [
  {
   "cell_type": "code",
   "execution_count": null,
   "id": "9aa06d22",
   "metadata": {},
   "outputs": [],
   "source": [
    "from selenium import webdriver \n",
    "\n",
    "from selenium.webdriver.common.keys import Keys \n",
    "\n",
    "driver = webdriver.Firefox(executable_path=r'C:/Users/tkrhk/anaconda3/Lib/site-packages/selenium/webdriver/firefox/geckodriver.exe')\n",
    "driver.get('https://www.google.com')"
   ]
  },
  {
   "cell_type": "markdown",
   "id": "4c4d0a73",
   "metadata": {},
   "source": [
    "## 2.1 Simple Usage"
   ]
  },
  {
   "cell_type": "code",
   "execution_count": 5,
   "id": "b75deab1",
   "metadata": {},
   "outputs": [],
   "source": [
    "from selenium import webdriver\n",
    "from selenium.webdriver.common.keys import Keys\n",
    "\n",
    "driver = webdriver.Firefox(executable_path=r'C:/Users/tkrhk/anaconda3/Lib/site-packages/selenium/webdriver/firefox/geckodriver.exe')\n",
    "driver.get(\"http://www.python.org\")\n",
    "assert \"Python\" in driver.title\n",
    "elem = driver.find_element_by_name(\"q\")\n",
    "elem.clear()\n",
    "elem.send_keys(\"pycon\")\n",
    "elem.send_keys(Keys.RETURN)\n",
    "assert \"No results found.\" not in driver.page_source\n",
    "driver.close()"
   ]
  },
  {
   "cell_type": "markdown",
   "id": "b17b5f30",
   "metadata": {},
   "source": [
    "## 2.2 Example Explained"
   ]
  },
  {
   "cell_type": "markdown",
   "id": "253611ba",
   "metadata": {},
   "source": [
    "## 2.3 Using Selenium to write tests"
   ]
  },
  {
   "cell_type": "code",
   "execution_count": null,
   "id": "0562a813",
   "metadata": {},
   "outputs": [],
   "source": [
    "import unittest"
   ]
  }
 ],
 "metadata": {
  "kernelspec": {
   "display_name": "Python 3",
   "language": "python",
   "name": "python3"
  },
  "language_info": {
   "codemirror_mode": {
    "name": "ipython",
    "version": 3
   },
   "file_extension": ".py",
   "mimetype": "text/x-python",
   "name": "python",
   "nbconvert_exporter": "python",
   "pygments_lexer": "ipython3",
   "version": "3.8.8"
  }
 },
 "nbformat": 4,
 "nbformat_minor": 5
}
