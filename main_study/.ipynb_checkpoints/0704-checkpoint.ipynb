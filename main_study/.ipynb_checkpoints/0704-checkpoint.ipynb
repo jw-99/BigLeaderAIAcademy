{
 "cells": [
  {
   "cell_type": "markdown",
   "id": "fd87d81b",
   "metadata": {},
   "source": [
    "나는 IT 회사에 다니고 있는 프로그래머이다. 팀원들과 개발 계획 회의 안건으로 포스트코로나 시대에 많이 사용될 프로그램에 대해서 의논하고 있다. \n",
    "많은 안건 중 팀장님께서 무인 POS(점포 판매 시스템)가 많이 사용될 것이라고 예상을 하고 무인 POS를 개발하자고 하셨다. \n",
    "\n",
    "먼저, 관리자 모드와 메뉴 주문 모드 및 결제모드로 구분된다. 관리자 모드는 비밀번호가 설정되어 있고, \n",
    "메뉴 및 가격을 추가 및 삭제의 수정을 할 수 있다.\n",
    "\n",
    "기본 메뉴로는 자장면 5000원, 짬뽕 6000원, 볶음밥 6000원, 탕수육 10000원이고 주문 시에는 메뉴 종류와 개수를 입력한다. \n",
    "또한, 테이블 번호도 메뉴 주문 시에 입력을 한다.\n",
    "\n",
    "결제시에는 테이블 번호를 입력하면 주문한 메뉴 내역이 출력이 된다. 카드 또는 현금으로 처리할 것이지 선택 후 금액을 입력하면 \n",
    "결제가 완료 된다. 카드면 처리가 바로 완료되며, 현금이면 입금 금액에 따라서 잔액을 알려줘야 한다.\n",
    "\n",
    "결제 내역(list_pay.txt)은 정산을 위해 파일로 저장이 되어야 한다. \n",
    "소스코드는 코드의 재사용 및 효율성을 위해 함수를 만들어서 작성하라는 지시를 받았다."
   ]
  },
  {
   "cell_type": "code",
   "execution_count": 64,
   "id": "e88ced83",
   "metadata": {},
   "outputs": [],
   "source": [
    "list_pay = []\n",
    "npay = []\n",
    "menu = {\"자장면\": 5000, \"짬뽕\": 6000, \"볶음밥\": 6000, \"탕수육\": 10000}\n",
    "\n",
    "class POS:\n",
    "    def __init__(self):        \n",
    "        self.now_pay = []\n",
    "         \n",
    "    def management(self):\n",
    "        print(\"비밀번호를 입력하세요.\")\n",
    "        pw_input = int(input())\n",
    "        pw = 123\n",
    "\n",
    "        if pw == pw_input:\n",
    "            print(\"메뉴판: \", menu)\n",
    "            print(\"메뉴와 가격을 추가하고싶으면 '추가'를 삭제하고 싶으면 '삭제', 취소하고 싶으면 '취소'를 입력하세요.\")\n",
    "            a = input()\n",
    "            \n",
    "            if a == '추가':\n",
    "                print(\"추가하고 싶은 메뉴와 가격을 '메뉴 가격' 형식으로 입력하세요\")\n",
    "                b, c = input().split(\" \")\n",
    "                menu[b] = int(c)\n",
    "                print(\"추가완료: \", menu)\n",
    "\n",
    "            elif a == '삭제':\n",
    "                print(\"삭제하고 싶은 메뉴를 입력하세요.\")\n",
    "                print(\"현재 메뉴: \",menu)\n",
    "                d = input()\n",
    "                del menu[d]\n",
    "                print('삭제완료: ', menu)\n",
    "                \n",
    "            elif a == '취소':\n",
    "                print('취소완료')\n",
    "                \n",
    "            else:\n",
    "                print('다시입력하세요.')\n",
    "                \n",
    "        else:\n",
    "            print(\"비밀번호가 틀렸습니다.\")\n",
    "            \n",
    "    def order(self):\n",
    "        print(\"메뉴판: \", menu)\n",
    "        print(\"주문하실 메뉴, 개수, 테이블번호를 '메뉴 개수 테이블번호' 형식으로 입력하세요.\")\n",
    "        k = list(input().split(\" \"))\n",
    "        \n",
    "        if len(k) < 3:\n",
    "            print(\"다시 입력해주세요.\")\n",
    "            \n",
    "        elif k[0] not in menu.keys() or k[1] == 0 or k[2] ==0:\n",
    "            print(\"다시 입력해주세요.\")\n",
    "            \n",
    "        else:\n",
    "            self.now_pay.append(k)\n",
    "            print(self.now_pay)\n",
    "            list_pay.append(self.now_pay)\n",
    "            npay.append(self.now_pay)\n",
    "\n",
    "    def account(self, tablenum):\n",
    "            for i in npay:\n",
    "                if npay[i][2] == tablenum:\n",
    "                    print(npay[i])\n"
   ]
  },
  {
   "cell_type": "code",
   "execution_count": 65,
   "id": "511370fa",
   "metadata": {},
   "outputs": [],
   "source": [
    "aaa = POS()\n",
    "aaa.account(2)"
   ]
  },
  {
   "cell_type": "code",
   "execution_count": 56,
   "id": "565bd40c",
   "metadata": {},
   "outputs": [],
   "source": []
  },
  {
   "cell_type": "code",
   "execution_count": null,
   "id": "717f9cd9",
   "metadata": {},
   "outputs": [],
   "source": [
    "        print()      \n",
    "        print(\"카드와 현금 중 어떤 결제수단으로 결제하시겠습니까?\")\n",
    "        cardorcash = input()\n",
    "        if cardorcash == \"카드\":\n",
    "            card = input()\n",
    "            print(\"결제완료\")\n",
    "        elif cardorcash == \"현금\":\n",
    "            cash = input()\n",
    "            print(\"결제완료, 남은 금액: {}\".format())\n",
    "        else:\n",
    "            print(\"다시입력해주세요.\")   "
   ]
  }
 ],
 "metadata": {
  "kernelspec": {
   "display_name": "Python 3",
   "language": "python",
   "name": "python3"
  },
  "language_info": {
   "codemirror_mode": {
    "name": "ipython",
    "version": 3
   },
   "file_extension": ".py",
   "mimetype": "text/x-python",
   "name": "python",
   "nbconvert_exporter": "python",
   "pygments_lexer": "ipython3",
   "version": "3.8.8"
  }
 },
 "nbformat": 4,
 "nbformat_minor": 5
}
