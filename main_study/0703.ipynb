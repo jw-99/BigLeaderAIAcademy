{
 "cells": [
  {
   "cell_type": "code",
   "execution_count": 7,
   "id": "a1105a0f",
   "metadata": {},
   "outputs": [
    {
     "name": "stdout",
     "output_type": "stream",
     "text": [
      "py\n",
      "thon\n"
     ]
    },
    {
     "data": {
      "text/plain": [
       "'py\\nthon'"
      ]
     },
     "execution_count": 7,
     "metadata": {},
     "output_type": "execute_result"
    }
   ],
   "source": [
    "# #n은 pritn 내에서만 동작\n",
    "print('py\\nthon')\n",
    "'py\\nthon'"
   ]
  },
  {
   "cell_type": "code",
   "execution_count": 31,
   "id": "5ae8de0f",
   "metadata": {},
   "outputs": [
    {
     "name": "stdout",
     "output_type": "stream",
     "text": [
      "2\n",
      "3\n",
      "2\n",
      "2\n",
      "5\n"
     ]
    },
    {
     "ename": "TypeError",
     "evalue": "object of type 'int' has no len()",
     "output_type": "error",
     "traceback": [
      "\u001b[1;31m---------------------------------------------------------------------------\u001b[0m",
      "\u001b[1;31mTypeError\u001b[0m                                 Traceback (most recent call last)",
      "\u001b[1;32m<ipython-input-31-f7a36a80f2c7>\u001b[0m in \u001b[0;36m<module>\u001b[1;34m\u001b[0m\n\u001b[0;32m     10\u001b[0m \u001b[1;33m\u001b[0m\u001b[0m\n\u001b[0;32m     11\u001b[0m \u001b[1;32mfor\u001b[0m \u001b[0mi\u001b[0m \u001b[1;32min\u001b[0m \u001b[1;33m[\u001b[0m\u001b[0ma\u001b[0m\u001b[1;33m,\u001b[0m\u001b[0mb\u001b[0m\u001b[1;33m,\u001b[0m\u001b[0mc\u001b[0m\u001b[1;33m,\u001b[0m\u001b[0md\u001b[0m\u001b[1;33m,\u001b[0m\u001b[0me\u001b[0m\u001b[1;33m,\u001b[0m\u001b[0mf\u001b[0m\u001b[1;33m,\u001b[0m\u001b[0mg\u001b[0m\u001b[1;33m]\u001b[0m\u001b[1;33m:\u001b[0m\u001b[1;33m\u001b[0m\u001b[1;33m\u001b[0m\u001b[0m\n\u001b[1;32m---> 12\u001b[1;33m     \u001b[0mprint\u001b[0m\u001b[1;33m(\u001b[0m\u001b[0mlen\u001b[0m\u001b[1;33m(\u001b[0m\u001b[0mi\u001b[0m\u001b[1;33m)\u001b[0m\u001b[1;33m)\u001b[0m\u001b[1;33m\u001b[0m\u001b[1;33m\u001b[0m\u001b[0m\n\u001b[0m",
      "\u001b[1;31mTypeError\u001b[0m: object of type 'int' has no len()"
     ]
    }
   ],
   "source": [
    "a = [1,2]\n",
    "b = (1,2,3)\n",
    "c = {1:2, 3:4}\n",
    "d = set(a)\n",
    "e = '12345'\n",
    "f = 123456\n",
    "g = 123456.7\n",
    "\n",
    "# int나 float 자료형은 len함수 'X'\n",
    "\n",
    "for i in [a,b,c,d,e,f,g]:\n",
    "    print(len(i))"
   ]
  },
  {
   "cell_type": "code",
   "execution_count": 37,
   "id": "931dff0a",
   "metadata": {},
   "outputs": [],
   "source": [
    "# 딕셔너리 자로형은 인덱싱 'X' key나 value로 접근\n",
    "# 집합 자료형도 인덱싱 'X'\n",
    "# 문자열은 인덱싱 'O', int나 float은 'X'"
   ]
  },
  {
   "cell_type": "code",
   "execution_count": 43,
   "id": "f60c8518",
   "metadata": {},
   "outputs": [
    {
     "name": "stdout",
     "output_type": "stream",
     "text": [
      "name is j age is 10\n"
     ]
    }
   ],
   "source": [
    "name = 'j'\n",
    "age = 10\n",
    "\n",
    "print('name is {} age is {}'.format(name, age))"
   ]
  },
  {
   "cell_type": "code",
   "execution_count": 44,
   "id": "9212fcd8",
   "metadata": {},
   "outputs": [
    {
     "name": "stdout",
     "output_type": "stream",
     "text": [
      "name is j age is 10\n"
     ]
    }
   ],
   "source": [
    "print(f'name is {name} age is {age}')"
   ]
  },
  {
   "cell_type": "code",
   "execution_count": 55,
   "id": "3f7c2482",
   "metadata": {},
   "outputs": [
    {
     "ename": "ValueError",
     "evalue": "substring not found",
     "output_type": "error",
     "traceback": [
      "\u001b[1;31m---------------------------------------------------------------------------\u001b[0m",
      "\u001b[1;31mValueError\u001b[0m                                Traceback (most recent call last)",
      "\u001b[1;32m<ipython-input-55-651bd38ce52c>\u001b[0m in \u001b[0;36m<module>\u001b[1;34m\u001b[0m\n\u001b[0;32m      4\u001b[0m \u001b[1;31m# but find는 존재하지 않는 문자 입력시 -1을 반환 index는 에러\u001b[0m\u001b[1;33m\u001b[0m\u001b[1;33m\u001b[0m\u001b[1;33m\u001b[0m\u001b[0m\n\u001b[0;32m      5\u001b[0m \u001b[0mstr\u001b[0m\u001b[1;33m.\u001b[0m\u001b[0mfind\u001b[0m\u001b[1;33m(\u001b[0m\u001b[1;34m'1'\u001b[0m\u001b[1;33m)\u001b[0m\u001b[1;33m\u001b[0m\u001b[1;33m\u001b[0m\u001b[0m\n\u001b[1;32m----> 6\u001b[1;33m \u001b[0mstr\u001b[0m\u001b[1;33m.\u001b[0m\u001b[0mindex\u001b[0m\u001b[1;33m(\u001b[0m\u001b[1;34m'1'\u001b[0m\u001b[1;33m)\u001b[0m\u001b[1;33m\u001b[0m\u001b[1;33m\u001b[0m\u001b[0m\n\u001b[0m",
      "\u001b[1;31mValueError\u001b[0m: substring not found"
     ]
    }
   ],
   "source": [
    "str = 'python'\n",
    "\n",
    "# find와 index 함수는 입력 문자의 인덱스를 반환 \n",
    "# but find는 존재하지 않는 문자 입력시 -1을 반환 index는 에러\n",
    "str.find('1')\n",
    "str.index('1')"
   ]
  },
  {
   "cell_type": "code",
   "execution_count": 60,
   "id": "9d729501",
   "metadata": {},
   "outputs": [],
   "source": [
    "# split은 문자열만 가능\n",
    "str1 = 'python'\n",
    "str2 = 12345\n",
    "str3 = [1,2,3,4,5]"
   ]
  },
  {
   "cell_type": "code",
   "execution_count": 57,
   "id": "f4061f3a",
   "metadata": {},
   "outputs": [
    {
     "data": {
      "text/plain": [
       "['python']"
      ]
     },
     "execution_count": 57,
     "metadata": {},
     "output_type": "execute_result"
    }
   ],
   "source": [
    "str1.split(',')"
   ]
  },
  {
   "cell_type": "code",
   "execution_count": 58,
   "id": "12fdf957",
   "metadata": {
    "scrolled": true
   },
   "outputs": [
    {
     "ename": "AttributeError",
     "evalue": "'int' object has no attribute 'split'",
     "output_type": "error",
     "traceback": [
      "\u001b[1;31m---------------------------------------------------------------------------\u001b[0m",
      "\u001b[1;31mAttributeError\u001b[0m                            Traceback (most recent call last)",
      "\u001b[1;32m<ipython-input-58-51b0b3ba184f>\u001b[0m in \u001b[0;36m<module>\u001b[1;34m\u001b[0m\n\u001b[1;32m----> 1\u001b[1;33m \u001b[0mstr2\u001b[0m\u001b[1;33m.\u001b[0m\u001b[0msplit\u001b[0m\u001b[1;33m(\u001b[0m\u001b[1;34m','\u001b[0m\u001b[1;33m)\u001b[0m\u001b[1;33m\u001b[0m\u001b[1;33m\u001b[0m\u001b[0m\n\u001b[0m",
      "\u001b[1;31mAttributeError\u001b[0m: 'int' object has no attribute 'split'"
     ]
    }
   ],
   "source": [
    "str2.split(',')"
   ]
  },
  {
   "cell_type": "code",
   "execution_count": 80,
   "id": "ff47cd42",
   "metadata": {},
   "outputs": [
    {
     "ename": "AttributeError",
     "evalue": "'list' object has no attribute 'split'",
     "output_type": "error",
     "traceback": [
      "\u001b[1;31m---------------------------------------------------------------------------\u001b[0m",
      "\u001b[1;31mAttributeError\u001b[0m                            Traceback (most recent call last)",
      "\u001b[1;32m<ipython-input-80-861856442ddd>\u001b[0m in \u001b[0;36m<module>\u001b[1;34m\u001b[0m\n\u001b[1;32m----> 1\u001b[1;33m \u001b[0mstr3\u001b[0m\u001b[1;33m.\u001b[0m\u001b[0msplit\u001b[0m\u001b[1;33m(\u001b[0m\u001b[1;34m','\u001b[0m\u001b[1;33m)\u001b[0m\u001b[1;33m\u001b[0m\u001b[1;33m\u001b[0m\u001b[0m\n\u001b[0m",
      "\u001b[1;31mAttributeError\u001b[0m: 'list' object has no attribute 'split'"
     ]
    }
   ],
   "source": [
    "str3.split(',')"
   ]
  },
  {
   "cell_type": "code",
   "execution_count": 69,
   "id": "b42e7fe0",
   "metadata": {},
   "outputs": [
    {
     "name": "stdout",
     "output_type": "stream",
     "text": [
      "입력하세요: alf, sdfkln\n"
     ]
    },
    {
     "data": {
      "text/plain": [
       "['alf', ' sdfkln']"
      ]
     },
     "execution_count": 69,
     "metadata": {},
     "output_type": "execute_result"
    }
   ],
   "source": [
    "input('입력하세요: ').split(',')"
   ]
  },
  {
   "cell_type": "code",
   "execution_count": 74,
   "id": "16433cd3",
   "metadata": {},
   "outputs": [
    {
     "name": "stdout",
     "output_type": "stream",
     "text": [
      "이름과 주소와 나이 입력: 정원 서울 23\n"
     ]
    }
   ],
   "source": [
    "name, address, age = input('이름과 주소와 나이 입력: ').split(' ')"
   ]
  },
  {
   "cell_type": "code",
   "execution_count": 77,
   "id": "963c9636",
   "metadata": {},
   "outputs": [
    {
     "name": "stdout",
     "output_type": "stream",
     "text": [
      "이름과 주소와 나이 입력: 10 20 30\n"
     ]
    }
   ],
   "source": [
    "nama, address, age = map(int, input('이름과 주소와 나이 입력: ').split(' '))"
   ]
  },
  {
   "cell_type": "code",
   "execution_count": 78,
   "id": "e3a7cb77",
   "metadata": {},
   "outputs": [
    {
     "data": {
      "text/plain": [
       "2"
      ]
     },
     "execution_count": 78,
     "metadata": {},
     "output_type": "execute_result"
    }
   ],
   "source": [
    "a = 'ppython'\n",
    "a.count('p')"
   ]
  },
  {
   "cell_type": "code",
   "execution_count": 89,
   "id": "b4b7f6ef",
   "metadata": {},
   "outputs": [
    {
     "name": "stdout",
     "output_type": "stream",
     "text": [
      "y\n",
      "y\n"
     ]
    }
   ],
   "source": [
    "# 하나씩 지정, 튜플로 저장\n",
    "c, b, d = a[0],a[1],a[2]\n",
    "print(d)\n",
    "\n",
    "c = a[0],a[1],a[2]\n",
    "print(d)"
   ]
  },
  {
   "cell_type": "code",
   "execution_count": 119,
   "id": "119cd468",
   "metadata": {},
   "outputs": [
    {
     "data": {
      "text/plain": [
       "['p', 'y', 't', 'h', 'o', 'n']"
      ]
     },
     "execution_count": 119,
     "metadata": {},
     "output_type": "execute_result"
    }
   ],
   "source": [
    "# 문자열.split('')은 ''로 구분하여 리스트에 저장 \n",
    "li = 'p y t h o n'\n",
    "li = li.split(\" \")\n",
    "li"
   ]
  },
  {
   "cell_type": "code",
   "execution_count": 120,
   "id": "4c636c3a",
   "metadata": {},
   "outputs": [
    {
     "data": {
      "text/plain": [
       "['p', 'yyy', 't', 'h', 'o', 'n']"
      ]
     },
     "execution_count": 120,
     "metadata": {},
     "output_type": "execute_result"
    }
   ],
   "source": [
    "# 리스트[] = 리스트 인덱스의 값 변경, 문자열은 'X'\n",
    "li[1] = 'yyy'\n",
    "li"
   ]
  },
  {
   "cell_type": "code",
   "execution_count": 121,
   "id": "33328b02",
   "metadata": {},
   "outputs": [
    {
     "data": {
      "text/plain": [
       "['yyy', 't', 'h', 'o', 'n']"
      ]
     },
     "execution_count": 121,
     "metadata": {},
     "output_type": "execute_result"
    }
   ],
   "source": [
    "li.remove('p')\n",
    "li"
   ]
  },
  {
   "cell_type": "code",
   "execution_count": 122,
   "id": "e1111387",
   "metadata": {},
   "outputs": [
    {
     "data": {
      "text/plain": [
       "['yyy', 't', 'h', 'o', 'n', 'python']"
      ]
     },
     "execution_count": 122,
     "metadata": {},
     "output_type": "execute_result"
    }
   ],
   "source": [
    "li.append('python')\n",
    "li"
   ]
  },
  {
   "cell_type": "code",
   "execution_count": 123,
   "id": "f1cb6fee",
   "metadata": {},
   "outputs": [
    {
     "ename": "TypeError",
     "evalue": "append() takes exactly one argument (2 given)",
     "output_type": "error",
     "traceback": [
      "\u001b[1;31m---------------------------------------------------------------------------\u001b[0m",
      "\u001b[1;31mTypeError\u001b[0m                                 Traceback (most recent call last)",
      "\u001b[1;32m<ipython-input-123-5cd1b17e15c1>\u001b[0m in \u001b[0;36m<module>\u001b[1;34m\u001b[0m\n\u001b[0;32m      1\u001b[0m \u001b[1;31m# append()는 한 개의 값만 입력\u001b[0m\u001b[1;33m\u001b[0m\u001b[1;33m\u001b[0m\u001b[1;33m\u001b[0m\u001b[0m\n\u001b[1;32m----> 2\u001b[1;33m \u001b[0mli\u001b[0m\u001b[1;33m.\u001b[0m\u001b[0mappend\u001b[0m\u001b[1;33m(\u001b[0m\u001b[1;34m'python'\u001b[0m\u001b[1;33m,\u001b[0m \u001b[1;36m2\u001b[0m\u001b[1;33m)\u001b[0m\u001b[1;33m\u001b[0m\u001b[1;33m\u001b[0m\u001b[0m\n\u001b[0m",
      "\u001b[1;31mTypeError\u001b[0m: append() takes exactly one argument (2 given)"
     ]
    }
   ],
   "source": [
    "# append()는 한 개의 값만 입력\n",
    "li.append('python', 2)"
   ]
  },
  {
   "cell_type": "code",
   "execution_count": 124,
   "id": "cfb4ec76",
   "metadata": {},
   "outputs": [
    {
     "data": {
      "text/plain": [
       "['yyy', 't', 'h', 'o', 'n', 'python', 'g', 'h']"
      ]
     },
     "execution_count": 124,
     "metadata": {},
     "output_type": "execute_result"
    }
   ],
   "source": [
    "# append는 리스트 추가 가능\n",
    "# extend는 문자열로 바꿔서 추가\n",
    "\n",
    "li.extend(['g', 'h'])\n",
    "li"
   ]
  },
  {
   "cell_type": "code",
   "execution_count": 136,
   "id": "286a07a1",
   "metadata": {},
   "outputs": [
    {
     "data": {
      "text/plain": [
       "[1, 2, 10]"
      ]
     },
     "execution_count": 136,
     "metadata": {},
     "output_type": "execute_result"
    }
   ],
   "source": [
    "a = [1,2]\n",
    "a.insert(4,10)\n",
    "a"
   ]
  },
  {
   "cell_type": "code",
   "execution_count": 138,
   "id": "a1979540",
   "metadata": {},
   "outputs": [
    {
     "data": {
      "text/plain": [
       "[1, 2, 3, 4]"
      ]
     },
     "execution_count": 138,
     "metadata": {},
     "output_type": "execute_result"
    }
   ],
   "source": [
    "b = [1,2,3,4,5]\n",
    "b.pop()\n",
    "b"
   ]
  },
  {
   "cell_type": "code",
   "execution_count": 139,
   "id": "0f7579e2",
   "metadata": {},
   "outputs": [
    {
     "data": {
      "text/plain": [
       "[2, 3, 4]"
      ]
     },
     "execution_count": 139,
     "metadata": {},
     "output_type": "execute_result"
    }
   ],
   "source": [
    "b.pop(0)\n",
    "b"
   ]
  },
  {
   "cell_type": "code",
   "execution_count": 144,
   "id": "4ec896e4",
   "metadata": {},
   "outputs": [
    {
     "data": {
      "text/plain": [
       "{'a': 123, 1: 'school', (2, 3): ['python']}"
      ]
     },
     "execution_count": 144,
     "metadata": {},
     "output_type": "execute_result"
    }
   ],
   "source": [
    "dic = {'a':123, 1: 'school', (2,3) : ['python']}\n",
    "dic"
   ]
  },
  {
   "cell_type": "code",
   "execution_count": 145,
   "id": "d9d83e10",
   "metadata": {},
   "outputs": [
    {
     "data": {
      "text/plain": [
       "{'a': 123, 1: 'school', (2, 3): ['python'], 4: 'hello'}"
      ]
     },
     "execution_count": 145,
     "metadata": {},
     "output_type": "execute_result"
    }
   ],
   "source": [
    "# 딕셔너리 추가\n",
    "dic[4] = 'hello'\n",
    "dic"
   ]
  },
  {
   "cell_type": "code",
   "execution_count": 146,
   "id": "19ac6298",
   "metadata": {},
   "outputs": [
    {
     "data": {
      "text/plain": [
       "dict_keys(['a', 1, (2, 3), 4])"
      ]
     },
     "execution_count": 146,
     "metadata": {},
     "output_type": "execute_result"
    }
   ],
   "source": [
    "dic.keys()"
   ]
  },
  {
   "cell_type": "code",
   "execution_count": 147,
   "id": "d24adcbc",
   "metadata": {},
   "outputs": [
    {
     "data": {
      "text/plain": [
       "dict_values([123, 'school', ['python'], 'hello'])"
      ]
     },
     "execution_count": 147,
     "metadata": {},
     "output_type": "execute_result"
    }
   ],
   "source": [
    "dic.values()"
   ]
  },
  {
   "cell_type": "code",
   "execution_count": 148,
   "id": "42bceea9",
   "metadata": {},
   "outputs": [
    {
     "data": {
      "text/plain": [
       "dict_items([('a', 123), (1, 'school'), ((2, 3), ['python']), (4, 'hello')])"
      ]
     },
     "execution_count": 148,
     "metadata": {},
     "output_type": "execute_result"
    }
   ],
   "source": [
    "dic.items()"
   ]
  },
  {
   "cell_type": "code",
   "execution_count": 152,
   "id": "5f409e5b",
   "metadata": {},
   "outputs": [
    {
     "data": {
      "text/plain": [
       "True"
      ]
     },
     "execution_count": 152,
     "metadata": {},
     "output_type": "execute_result"
    }
   ],
   "source": [
    "# key가 존재하는 지\n",
    "4 in dic"
   ]
  },
  {
   "cell_type": "code",
   "execution_count": 158,
   "id": "6aba52af",
   "metadata": {},
   "outputs": [
    {
     "data": {
      "text/plain": [
       "'hello'"
      ]
     },
     "execution_count": 158,
     "metadata": {},
     "output_type": "execute_result"
    }
   ],
   "source": [
    "# key값에 맞는 value 반환\n",
    "dic.get(4)"
   ]
  },
  {
   "cell_type": "code",
   "execution_count": 164,
   "id": "661a9929",
   "metadata": {},
   "outputs": [
    {
     "data": {
      "text/plain": [
       "'not key'"
      ]
     },
     "execution_count": 164,
     "metadata": {},
     "output_type": "execute_result"
    }
   ],
   "source": [
    "# key값이 없으면 'not key' 반환\n",
    "dic.get(5, 'not key')"
   ]
  },
  {
   "cell_type": "code",
   "execution_count": 168,
   "id": "993ec206",
   "metadata": {},
   "outputs": [
    {
     "name": "stdout",
     "output_type": "stream",
     "text": [
      "0\n",
      "3\n",
      "6\n",
      "9\n"
     ]
    }
   ],
   "source": [
    "i = 0\n",
    "while True:\n",
    "    print(i)\n",
    "    i = i+3\n",
    "    if i >10:\n",
    "        break"
   ]
  },
  {
   "cell_type": "code",
   "execution_count": 176,
   "id": "ecef16c1",
   "metadata": {},
   "outputs": [
    {
     "name": "stdout",
     "output_type": "stream",
     "text": [
      "2 4 6 8 10 12 14 16 18 \n",
      "3 6 9 12 15 18 21 24 27 \n",
      "4 8 12 16 20 24 28 32 36 \n",
      "5 10 15 20 25 30 35 40 45 \n",
      "6 12 18 24 30 36 42 48 54 \n",
      "7 14 21 28 35 42 49 56 63 \n",
      "8 16 24 32 40 48 56 64 72 \n",
      "9 18 27 36 45 54 63 72 81 \n"
     ]
    }
   ],
   "source": [
    "for i in range(2,10):\n",
    "    for j in range(1,10):\n",
    "        print(i * j, end = ' ')\n",
    "    print('')"
   ]
  },
  {
   "cell_type": "code",
   "execution_count": 178,
   "id": "39ee089f",
   "metadata": {},
   "outputs": [],
   "source": [
    "def add_many(*arg):\n",
    "    print(arg)"
   ]
  },
  {
   "cell_type": "code",
   "execution_count": 181,
   "id": "cb59806c",
   "metadata": {},
   "outputs": [
    {
     "name": "stdout",
     "output_type": "stream",
     "text": [
      "('py', 12)\n"
     ]
    }
   ],
   "source": [
    "add_many('py',12)"
   ]
  },
  {
   "cell_type": "code",
   "execution_count": 192,
   "id": "cf214677",
   "metadata": {},
   "outputs": [
    {
     "name": "stdout",
     "output_type": "stream",
     "text": [
      "2\n"
     ]
    }
   ],
   "source": [
    "a = 2\n",
    "\n",
    "def c():\n",
    "    global a\n",
    "    print(a)\n",
    "\n",
    "c()"
   ]
  },
  {
   "cell_type": "code",
   "execution_count": 198,
   "id": "e5f6e0a2",
   "metadata": {},
   "outputs": [
    {
     "data": {
      "text/plain": [
       "'t'"
      ]
     },
     "execution_count": 198,
     "metadata": {},
     "output_type": "execute_result"
    }
   ],
   "source": [
    "a = 'python'\n",
    "a[2:3]"
   ]
  },
  {
   "cell_type": "code",
   "execution_count": 197,
   "id": "df61c963",
   "metadata": {},
   "outputs": [
    {
     "data": {
      "text/plain": [
       "2"
      ]
     },
     "execution_count": 197,
     "metadata": {},
     "output_type": "execute_result"
    }
   ],
   "source": []
  },
  {
   "cell_type": "code",
   "execution_count": null,
   "id": "184f32da",
   "metadata": {},
   "outputs": [],
   "source": []
  }
 ],
 "metadata": {
  "kernelspec": {
   "display_name": "Python 3",
   "language": "python",
   "name": "python3"
  },
  "language_info": {
   "codemirror_mode": {
    "name": "ipython",
    "version": 3
   },
   "file_extension": ".py",
   "mimetype": "text/x-python",
   "name": "python",
   "nbconvert_exporter": "python",
   "pygments_lexer": "ipython3",
   "version": "3.8.8"
  }
 },
 "nbformat": 4,
 "nbformat_minor": 5
}
